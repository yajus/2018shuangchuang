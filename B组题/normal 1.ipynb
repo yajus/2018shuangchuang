{
 "cells": [
  {
   "cell_type": "code",
   "execution_count": null,
   "metadata": {},
   "outputs": [],
   "source": [
    "import pandas as pd\n",
    "import numpy as np\n",
    "import matplotlib.pyplot as plt\n",
    "%matplotlib inline\n",
    "\n",
    "\"\"\"\n",
    "vehicle_id STRING 车辆唯一标志码\n",
    "time INT 时间\n",
    "state INT 车辆状态（1 代表启动，2 代表熄火，3 代表其他）\n",
    "GPS_lat FLOAT 纬度\n",
    "GPS_lon FLOAT 经度\n",
    "\"\"\"\n",
    "\n",
    "data = pd.read_csv('./track_data.csv')\n",
    "data.head()"
   ]
  },
  {
   "cell_type": "code",
   "execution_count": null,
   "metadata": {},
   "outputs": [],
   "source": [
    "# 筛选时间\n",
    "\"\"\"\n",
    "v1:20180505003414~20180520172231\n",
    "v2:20180103003659~20180416091822\n",
    "v3:20171023235404~20171204015011\n",
    "v4:20171021174303~20171122161235\n",
    "\"\"\"\n",
    "\n",
    "#v1 = data[(data.vehicle_id == 1) & (data.time >= 20180505003414) & (data.time <= 20180520172231)].copy()\n",
    "#v2 = data[(data.vehicle_id == 2) & (data.time >= 20180103003659) & (data.time <= 20180416091822)].copy()\n",
    "#v3 = data[(data.vehicle_id == 3) & (data.time >= 20171023235404) & (data.time <= 20171204015011)].copy()\n",
    "#v4 = data[(data.vehicle_id == 4) & (data.time >= 20171021174303) & (data.time <= 20171122161235)].copy()\n",
    "v1=data[(data.vehicle_id==1)]\n",
    "v2=data[(data.vehicle_id==2)]\n",
    "v3=data[(data.vehicle_id==3)]\n",
    "v4=data[(data.vehicle_id==4)]\n",
    "len(data), len(v1) + len(v2) + len(v3) + len(v4), len(v1), len(v2), len(v3), len(v4)"
   ]
  },
  {
   "cell_type": "code",
   "execution_count": null,
   "metadata": {},
   "outputs": [],
   "source": [
    "plt.figure(figsize = (12, 12))\n",
    "\n",
    "for i, v in enumerate([v1, v2, v3, v4]):\n",
    "    plt.subplot(4, 2, i*2+1)\n",
    "    plt.plot(v.index, v['GPS_lon'])\n",
    "    plt.ylim(0, 180)\n",
    "    plt.ylabel('GPS_lon')\n",
    "\n",
    "    plt.subplot(4, 2, i*2+2)\n",
    "    plt.plot(v.index, v['GPS_lat'])\n",
    "    plt.ylim(0, 180)\n",
    "    plt.ylabel('GPS_lat')"
   ]
  },
  {
   "cell_type": "code",
   "execution_count": null,
   "metadata": {},
   "outputs": [],
   "source": [
    "# 筛选经纬\n",
    "\"\"\"\n",
    "v1: lon (116,118) lat (31,32)\n",
    "v2: lon (108,110) lat (34,35)\n",
    "v3: lon (116,117) lat (39,41)\n",
    "v4: lon (116,118) lat (40,41)\n",
    "\"\"\"\n",
    "\n",
    "v1.loc[(v1.GPS_lon < 116) | (v1.GPS_lon > 118), 'GPS_lon'] = np.nan\n",
    "v1.loc[(v1.GPS_lat < 31) | (v1.GPS_lat > 32), 'GPS_lat'] = np.nan\n",
    "\n",
    "v2.loc[(v2.GPS_lon < 108) | (v2.GPS_lon > 110), 'GPS_lon'] = np.nan\n",
    "v2.loc[(v2.GPS_lat < 34) | (v2.GPS_lat > 35), 'GPS_lat'] = np.nan\n",
    "\n",
    "v3.loc[(v3.GPS_lon < 116) | (v3.GPS_lon > 117), 'GPS_lon'] = np.nan\n",
    "v3.loc[(v3.GPS_lat < 39) | (v3.GPS_lat > 41), 'GPS_lat'] = np.nan\n",
    "\n",
    "v4.loc[(v4.GPS_lon < 116) | (v4.GPS_lon > 118), 'GPS_lon'] = np.nan\n",
    "v4.loc[(v4.GPS_lat < 40) | (v4.GPS_lat > 41), 'GPS_lat'] = np.nan"
   ]
  },
  {
   "cell_type": "code",
   "execution_count": null,
   "metadata": {},
   "outputs": [],
   "source": [
    "plt.figure(figsize = (12, 12))\n",
    "\n",
    "for i, v in enumerate([v1, v2, v3, v4]):\n",
    "    plt.subplot(4, 2, i*2+1)\n",
    "    plt.plot(v.index, v['GPS_lon'])\n",
    "    plt.ylim(0, 180)\n",
    "    plt.ylabel('GPS_lon')\n",
    "\n",
    "    plt.subplot(4, 2, i*2+2)\n",
    "    plt.plot(v.index, v['GPS_lat'])\n",
    "    plt.ylim(0, 180)\n",
    "    plt.ylabel('GPS_lat')"
   ]
  },
  {
   "cell_type": "code",
   "execution_count": null,
   "metadata": {},
   "outputs": [],
   "source": [
    "# 插值填充\n",
    "v1['GPS_lon'] = v1['GPS_lon'].interpolate()\n",
    "v1['GPS_lat'] = v1['GPS_lat'].interpolate()\n",
    "\n",
    "v2['GPS_lon'] = v2['GPS_lon'].interpolate()\n",
    "v2['GPS_lat'] = v2['GPS_lat'].interpolate()\n",
    "\n",
    "v3['GPS_lon'] = v3['GPS_lon'].interpolate()\n",
    "v3['GPS_lat'] = v3['GPS_lat'].interpolate()\n",
    "\n",
    "v4['GPS_lon'] = v4['GPS_lon'].interpolate()\n",
    "v4['GPS_lat'] = v4['GPS_lat'].interpolate()"
   ]
  },
  {
   "cell_type": "code",
   "execution_count": null,
   "metadata": {},
   "outputs": [],
   "source": [
    "plt.figure(figsize = (12, 12))\n",
    "\n",
    "for i, v in enumerate([v1, v2, v3, v4]):\n",
    "    plt.subplot(4, 2, i*2+1)\n",
    "    plt.plot(v.index, v['GPS_lon'])\n",
    "    plt.ylim(0, 180)\n",
    "    plt.ylabel('GPS_lon')\n",
    "\n",
    "    plt.subplot(4, 2, i*2+2)\n",
    "    plt.plot(v.index, v['GPS_lat'])\n",
    "    plt.ylim(0, 180)\n",
    "    plt.ylabel('GPS_lat')"
   ]
  },
  {
   "cell_type": "markdown",
   "metadata": {},
   "source": [
    "# 轨迹计算"
   ]
  },
  {
   "cell_type": "code",
   "execution_count": null,
   "metadata": {},
   "outputs": [],
   "source": [
    "from math import *\n",
    "\n",
    "def distance(lon1, lat1, lon2, lat2):\n",
    "    # 地球平均半径\n",
    "    R = 6371.0\n",
    "    \n",
    "    lon1 = radians(lon1)\n",
    "    lat1 = radians(lat1)\n",
    "    lon2 = radians(lon2)\n",
    "    lat2 = radians(lat2)\n",
    "\n",
    "    dlon = lon2 - lon1\n",
    "    dlat = lat2 - lat1\n",
    "\n",
    "    a = sin(dlat / 2)**2 + cos(lat1) * cos(lat2) * sin(dlon / 2)**2\n",
    "    c = 2 * atan2(sqrt(a), sqrt(1 - a))\n",
    "\n",
    "    return R * c"
   ]
  },
  {
   "cell_type": "code",
   "execution_count": null,
   "metadata": {},
   "outputs": [],
   "source": [
    "y = []\n",
    "\n",
    "for v in [v1, v2, v3, v4]:\n",
    "    d = 0\n",
    "    for i in range(len(v) - 1):\n",
    "        lon1 = v.iloc[i]['GPS_lon']\n",
    "        lat1 = v.iloc[i]['GPS_lat']\n",
    "        lon2 = v.iloc[i+1]['GPS_lon']\n",
    "        lat2 = v.iloc[i+1]['GPS_lat']\n",
    "        d += distance(lon1, lat1, lon2, lat2)\n",
    "    y.append(d)\n",
    "\n",
    "y"
   ]
  },
  {
   "cell_type": "code",
   "execution_count": null,
   "metadata": {},
   "outputs": [],
   "source": [
    "df = pd.DataFrame({'vehicle_id': [1,2,3,4], 'track_mileage': y})\n",
    "df = df[['vehicle_id', 'track_mileage']]\n",
    "df.to_csv('./track-submit_today.csv', index=False)"
   ]
  },
  {
   "cell_type": "markdown",
   "metadata": {},
   "source": [
    "![title](../pdf/1.png)"
   ]
  }
 ],
 "metadata": {
  "anaconda-cloud": {},
  "kernelspec": {
   "display_name": "Python 3",
   "language": "python",
   "name": "python3"
  },
  "language_info": {
   "codemirror_mode": {
    "name": "ipython",
    "version": 3
   },
   "file_extension": ".py",
   "mimetype": "text/x-python",
   "name": "python",
   "nbconvert_exporter": "python",
   "pygments_lexer": "ipython3",
   "version": "3.6.5"
  }
 },
 "nbformat": 4,
 "nbformat_minor": 1
}
