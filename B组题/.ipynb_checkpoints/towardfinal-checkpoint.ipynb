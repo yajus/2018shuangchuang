{
 "cells": [
  {
   "cell_type": "code",
   "execution_count": null,
   "metadata": {},
   "outputs": [],
   "source": [
    "import pandas as pd\n",
    "import numpy as np\n",
    "import matplotlib.pyplot as plt\n",
    "%matplotlib inline\n",
    "\n",
    "\"\"\"\n",
    "vehicle_id STRING 车辆唯一标志码\n",
    "time INT 时间\n",
    "state INT 车辆状态（1 代表启动，2 代表熄火，3 代表其他）\n",
    "GPS_lat FLOAT 纬度\n",
    "GPS_lon FLOAT 经度\n",
    "\n",
    "SUM = 5332862\n",
    "    1          2          sum\n",
    "v1  0         0          267664\n",
    "v2  0         0          387270\n",
    "v3  0         0          719046\n",
    "v4  75594     47521      123115\n",
    "v5  77887     54274      132161\n",
    "v6  0         0          448535\n",
    "v7  289265    1630       290896\n",
    "v8  437183    64308      501492\n",
    "v9  464303    31954      496257\n",
    "v10 385879    214029     599910\n",
    "v11 316713    363277     679993\n",
    "v12 462200    224323     686523\n",
    "\"\"\"\n",
    "\n",
    "data = pd.read_csv('决赛数据/track_data.csv')\n",
    "data.head()"
   ]
  },
  {
   "cell_type": "code",
   "execution_count": null,
   "metadata": {},
   "outputs": [],
   "source": [
    "# 筛选车辆\n",
    "v1 = data[(data.vehicle_id == 1)].copy()\n",
    "v2 = data[(data.vehicle_id == 2)].copy()\n",
    "v3 = data[(data.vehicle_id == 3)].copy()\n",
    "v4 = data[(data.vehicle_id == 4)].copy()\n",
    "v5 = data[(data.vehicle_id == 5)].copy()\n",
    "v6 = data[(data.vehicle_id == 6)].copy()\n",
    "v7 = data[(data.vehicle_id == 7)].copy()\n",
    "v8 = data[(data.vehicle_id == 8)].copy()\n",
    "v9 = data[(data.vehicle_id == 9)].copy()\n",
    "v10 = data[(data.vehicle_id == 10)].copy()\n",
    "v11 = data[(data.vehicle_id == 11)].copy()\n",
    "v12 = data[(data.vehicle_id == 12)].copy()"
   ]
  },
  {
   "cell_type": "code",
   "execution_count": null,
   "metadata": {},
   "outputs": [],
   "source": [
    "# 筛选状态 TODO 状态不一定正确\n",
    "# v4 = v4[v4.state == 1]\n",
    "# v5 = v5[v5.state == 1]\n",
    "# v7 = v7[v7.state == 1]\n",
    "# v8 = v8[v8.state == 1]\n",
    "# v9 = v9[v9.state == 1]\n",
    "# v10 = v10[v10.state == 1]\n",
    "# v11 = v11[v11.state == 1]\n",
    "# v12 = v12[v12.state == 1]"
   ]
  },
  {
   "cell_type": "code",
   "execution_count": null,
   "metadata": {},
   "outputs": [],
   "source": [
    "plt.figure(figsize = (12, 30))\n",
    "\n",
    "for i, v in enumerate([v1, v2, v3, v4, v5, v6, v7, v8, v9, v10, v11, v12]):\n",
    "    plt.subplot(12, 2, i*2+1)\n",
    "    plt.plot(v.index, v['GPS_lon'])\n",
    "    plt.ylim(0, 180)\n",
    "    plt.ylabel('GPS_lon')\n",
    "\n",
    "    plt.subplot(12, 2, i*2+2)\n",
    "    plt.plot(v.index, v['GPS_lat'])\n",
    "    plt.ylim(0, 180)\n",
    "    plt.ylabel('GPS_lat')"
   ]
  },
  {
   "cell_type": "code",
   "execution_count": null,
   "metadata": {},
   "outputs": [],
   "source": [
    "# 筛选经纬\n",
    "\"\"\"\n",
    "v1: lon (116,118) lat (40,41)\n",
    "v2: lon (116,118) lat (40,41)\n",
    "v3: lon (116,118) lat (39,41)\n",
    "v4: lon (116,118) lat (35,36)\n",
    "v5: lon (116,118) lat (31,32)\n",
    "\"\"\"\n",
    "\n",
    "v1.loc[(v1.GPS_lon < 116) | (v1.GPS_lon > 118), 'GPS_lon'] = np.nan\n",
    "v1.loc[(v1.GPS_lat < 40) | (v1.GPS_lat > 41), 'GPS_lat'] = np.nan\n",
    "\n",
    "v2.loc[(v2.GPS_lon < 116) | (v2.GPS_lon > 118), 'GPS_lon'] = np.nan\n",
    "v2.loc[(v2.GPS_lat < 40) | (v2.GPS_lat > 41), 'GPS_lat'] = np.nan\n",
    "\n",
    "v3.loc[(v3.GPS_lon < 116) | (v3.GPS_lon > 118), 'GPS_lon'] = np.nan\n",
    "v3.loc[(v3.GPS_lat < 39) | (v3.GPS_lat > 41), 'GPS_lat'] = np.nan\n",
    "\n",
    "v4.loc[(v4.GPS_lon < 116) | (v4.GPS_lon > 118), 'GPS_lon'] = np.nan\n",
    "v4.loc[(v4.GPS_lat < 35) | (v4.GPS_lat > 36), 'GPS_lat'] = np.nan\n",
    "\n",
    "v5.loc[(v5.GPS_lon < 116) | (v5.GPS_lon > 118), 'GPS_lon'] = np.nan\n",
    "v5.loc[(v5.GPS_lat < 31) | (v5.GPS_lat > 32), 'GPS_lat'] = np.nan"
   ]
  },
  {
   "cell_type": "code",
   "execution_count": null,
   "metadata": {},
   "outputs": [],
   "source": [
    "# 插值填充\n",
    "v1['GPS_lon'] = v1['GPS_lon'].interpolate()\n",
    "v1['GPS_lat'] = v1['GPS_lat'].interpolate()\n",
    "\n",
    "v2['GPS_lon'] = v2['GPS_lon'].interpolate()\n",
    "v2['GPS_lat'] = v2['GPS_lat'].interpolate()\n",
    "\n",
    "v3['GPS_lon'] = v3['GPS_lon'].interpolate()\n",
    "v3['GPS_lat'] = v3['GPS_lat'].interpolate()\n",
    "\n",
    "v4['GPS_lon'] = v4['GPS_lon'].interpolate()\n",
    "v4['GPS_lat'] = v4['GPS_lat'].interpolate()\n",
    "\n",
    "v5['GPS_lon'] = v5['GPS_lon'].interpolate()\n",
    "v5['GPS_lat'] = v5['GPS_lat'].interpolate()"
   ]
  },
  {
   "cell_type": "code",
   "execution_count": null,
   "metadata": {},
   "outputs": [],
   "source": [
    "v1 = v1.dropna(subset=['GPS_lon', 'GPS_lat'])\n",
    "v2 = v2.dropna(subset=['GPS_lon', 'GPS_lat'])\n",
    "v3 = v3.dropna(subset=['GPS_lon', 'GPS_lat'])\n",
    "v4 = v4.dropna(subset=['GPS_lon', 'GPS_lat'])\n",
    "v5 = v5.dropna(subset=['GPS_lon', 'GPS_lat'])\n",
    "v6 = v6.dropna(subset=['GPS_lon', 'GPS_lat'])\n",
    "v7 = v7.dropna(subset=['GPS_lon', 'GPS_lat'])\n",
    "v8 = v8.dropna(subset=['GPS_lon', 'GPS_lat'])\n",
    "v9 = v9.dropna(subset=['GPS_lon', 'GPS_lat'])\n",
    "v10 = v10.dropna(subset=['GPS_lon', 'GPS_lat'])\n",
    "v11 = v11.dropna(subset=['GPS_lon', 'GPS_lat'])\n",
    "v12 = v12.dropna(subset=['GPS_lon', 'GPS_lat'])"
   ]
  },
  {
   "cell_type": "code",
   "execution_count": null,
   "metadata": {},
   "outputs": [],
   "source": [
    "plt.figure(figsize = (12, 30))\n",
    "\n",
    "for i, v in enumerate([v1, v2, v3, v4, v5, v6, v7, v8, v9, v10, v11, v12]):\n",
    "    plt.subplot(12, 2, i*2+1)\n",
    "    plt.plot(v.index, v['GPS_lon'])\n",
    "    plt.ylim(0, 180)\n",
    "    plt.ylabel('GPS_lon')\n",
    "\n",
    "    plt.subplot(12, 2, i*2+2)\n",
    "    plt.plot(v.index, v['GPS_lat'])\n",
    "    plt.ylim(0, 180)\n",
    "    plt.ylabel('GPS_lat')"
   ]
  },
  {
   "cell_type": "markdown",
   "metadata": {},
   "source": [
    "# 轨迹计算"
   ]
  },
  {
   "cell_type": "code",
   "execution_count": null,
   "metadata": {
    "collapsed": true
   },
   "outputs": [],
   "source": [
    "from math import *\n",
    "\n",
    "def distance(lon1, lat1, lon2, lat2):\n",
    "    # 地球平均半径\n",
    "    R = 6371.0\n",
    "    \n",
    "    lon1 = radians(lon1)\n",
    "    lat1 = radians(lat1)\n",
    "    lon2 = radians(lon2)\n",
    "    lat2 = radians(lat2)\n",
    "\n",
    "    dlon = lon2 - lon1\n",
    "    dlat = lat2 - lat1\n",
    "\n",
    "    a = sin(dlat / 2)**2 + cos(lat1) * cos(lat2) * sin(dlon / 2)**2\n",
    "    c = 2 * atan2(sqrt(a), sqrt(1 - a))\n",
    "\n",
    "    return R * c"
   ]
  },
  {
   "cell_type": "code",
   "execution_count": null,
   "metadata": {},
   "outputs": [],
   "source": [
    "y = []\n",
    "\n",
    "for v in [v1, v2, v3, v4, v5, v6, v7, v8, v9, v10, v11, v12]:\n",
    "    d = 0\n",
    "    for i in range(len(v) - 1):\n",
    "        lon1 = v.iloc[i]['GPS_lon']\n",
    "        lat1 = v.iloc[i]['GPS_lat']\n",
    "        lon2 = v.iloc[i+1]['GPS_lon']\n",
    "        lat2 = v.iloc[i+1]['GPS_lat']\n",
    "        d += distance(lon1, lat1, lon2, lat2)\n",
    "    y.append(d)\n",
    "\n",
    "y"
   ]
  },
  {
   "cell_type": "code",
   "execution_count": null,
   "metadata": {},
   "outputs": [],
   "source": [
    "df = pd.DataFrame({'vehicle_id': [1,2,3,4,5,6,7,8,9,10,11,12], 'track_mileage': y})\n",
    "df = df[['vehicle_id', 'track_mileage']]\n",
    "df.to_csv('result/track-submit_张彬城_暨南大学_15521106350_20181101.csv', index=False)"
   ]
  },
  {
   "cell_type": "markdown",
   "metadata": {},
   "source": [
    "![title](../pdf/1.png)"
   ]
  }
 ],
 "metadata": {
  "anaconda-cloud": {},
  "kernelspec": {
   "display_name": "Python 3",
   "language": "python",
   "name": "python3"
  },
  "language_info": {
   "codemirror_mode": {
    "name": "ipython",
    "version": 3
   },
   "file_extension": ".py",
   "mimetype": "text/x-python",
   "name": "python",
   "nbconvert_exporter": "python",
   "pygments_lexer": "ipython3",
   "version": "3.6.5"
  }
 },
 "nbformat": 4,
 "nbformat_minor": 1
}
