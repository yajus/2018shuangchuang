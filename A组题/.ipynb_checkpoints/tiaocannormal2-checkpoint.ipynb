{
 "cells": [
  {
   "cell_type": "code",
   "execution_count": 1,
   "metadata": {},
   "outputs": [
    {
     "data": {
      "text/html": [
       "<div>\n",
       "<table border=\"1\" class=\"dataframe\">\n",
       "  <thead>\n",
       "    <tr style=\"text-align: right;\">\n",
       "      <th></th>\n",
       "      <th>vehicle_id</th>\n",
       "      <th>charge_start_time</th>\n",
       "      <th>charge_end_time</th>\n",
       "      <th>mileage</th>\n",
       "      <th>charge_start_soc</th>\n",
       "      <th>charge_end_soc</th>\n",
       "      <th>charge_start_U</th>\n",
       "      <th>charge_end_U</th>\n",
       "      <th>charge_start_I</th>\n",
       "      <th>charge_end_I</th>\n",
       "      <th>charge_max_temp</th>\n",
       "      <th>charge_min_temp</th>\n",
       "      <th>charge_energy</th>\n",
       "    </tr>\n",
       "  </thead>\n",
       "  <tbody>\n",
       "    <tr>\n",
       "      <th>0</th>\n",
       "      <td>1</td>\n",
       "      <td>20171101113839</td>\n",
       "      <td>20171101144639</td>\n",
       "      <td>69054.6</td>\n",
       "      <td>61.2</td>\n",
       "      <td>90.0</td>\n",
       "      <td>367.8</td>\n",
       "      <td>377.3</td>\n",
       "      <td>-7.7</td>\n",
       "      <td>-7.8</td>\n",
       "      <td>21.0</td>\n",
       "      <td>16.0</td>\n",
       "      <td>9.071</td>\n",
       "    </tr>\n",
       "    <tr>\n",
       "      <th>1</th>\n",
       "      <td>1</td>\n",
       "      <td>20171101212850</td>\n",
       "      <td>20171102045945</td>\n",
       "      <td>69180.2</td>\n",
       "      <td>34.0</td>\n",
       "      <td>100.0</td>\n",
       "      <td>363.4</td>\n",
       "      <td>400.6</td>\n",
       "      <td>-7.7</td>\n",
       "      <td>-7.7</td>\n",
       "      <td>19.0</td>\n",
       "      <td>15.0</td>\n",
       "      <td>21.745</td>\n",
       "    </tr>\n",
       "    <tr>\n",
       "      <th>2</th>\n",
       "      <td>1</td>\n",
       "      <td>20171102121246</td>\n",
       "      <td>20171102154916</td>\n",
       "      <td>69284.2</td>\n",
       "      <td>54.0</td>\n",
       "      <td>87.2</td>\n",
       "      <td>367.4</td>\n",
       "      <td>377.0</td>\n",
       "      <td>-7.7</td>\n",
       "      <td>-7.8</td>\n",
       "      <td>23.0</td>\n",
       "      <td>17.0</td>\n",
       "      <td>10.434</td>\n",
       "    </tr>\n",
       "    <tr>\n",
       "      <th>3</th>\n",
       "      <td>1</td>\n",
       "      <td>20171102204546</td>\n",
       "      <td>20171103025825</td>\n",
       "      <td>69377.0</td>\n",
       "      <td>46.0</td>\n",
       "      <td>100.0</td>\n",
       "      <td>366.6</td>\n",
       "      <td>399.0</td>\n",
       "      <td>-7.7</td>\n",
       "      <td>-7.8</td>\n",
       "      <td>21.0</td>\n",
       "      <td>16.0</td>\n",
       "      <td>17.990</td>\n",
       "    </tr>\n",
       "    <tr>\n",
       "      <th>4</th>\n",
       "      <td>1</td>\n",
       "      <td>20171103164054</td>\n",
       "      <td>20171103170824</td>\n",
       "      <td>69431.6</td>\n",
       "      <td>75.2</td>\n",
       "      <td>97.2</td>\n",
       "      <td>372.8</td>\n",
       "      <td>385.8</td>\n",
       "      <td>-29.9</td>\n",
       "      <td>-40.1</td>\n",
       "      <td>18.0</td>\n",
       "      <td>15.0</td>\n",
       "      <td>6.990</td>\n",
       "    </tr>\n",
       "  </tbody>\n",
       "</table>\n",
       "</div>"
      ],
      "text/plain": [
       "   vehicle_id  charge_start_time  charge_end_time  mileage  charge_start_soc  \\\n",
       "0           1     20171101113839   20171101144639  69054.6              61.2   \n",
       "1           1     20171101212850   20171102045945  69180.2              34.0   \n",
       "2           1     20171102121246   20171102154916  69284.2              54.0   \n",
       "3           1     20171102204546   20171103025825  69377.0              46.0   \n",
       "4           1     20171103164054   20171103170824  69431.6              75.2   \n",
       "\n",
       "   charge_end_soc  charge_start_U  charge_end_U  charge_start_I  charge_end_I  \\\n",
       "0            90.0           367.8         377.3            -7.7          -7.8   \n",
       "1           100.0           363.4         400.6            -7.7          -7.7   \n",
       "2            87.2           367.4         377.0            -7.7          -7.8   \n",
       "3           100.0           366.6         399.0            -7.7          -7.8   \n",
       "4            97.2           372.8         385.8           -29.9         -40.1   \n",
       "\n",
       "   charge_max_temp  charge_min_temp  charge_energy  \n",
       "0             21.0             16.0          9.071  \n",
       "1             19.0             15.0         21.745  \n",
       "2             23.0             17.0         10.434  \n",
       "3             21.0             16.0         17.990  \n",
       "4             18.0             15.0          6.990  "
      ]
     },
     "execution_count": 1,
     "metadata": {},
     "output_type": "execute_result"
    }
   ],
   "source": [
    "import pandas as pd\n",
    "import numpy as np\n",
    "\n",
    "\"\"\"\n",
    "vehicle_id STRING 车辆唯一标志码\n",
    "charge_start_time INT 充电开始时间\n",
    "charge_end_time INT 充电结束时间\n",
    "mileage FLOAT 充电开始时刻车辆仪表里程（km）\n",
    "charge_start_soc INT 充电开始时刻动力电池 SOC\n",
    "charge_end_soc INT 充电结束时刻动力电池 SOC\n",
    "charge_start_U FLOAT 充电开始时刻动力电池总电压（V）\n",
    "charge_end_U FLOAT 充电结束时刻动力电池总电压（V）\n",
    "charge_start_I FLOAT 充电开始时刻动力电池总电流（A）\n",
    "charge_end_I FLOAT 充电结束时刻动力电池总电流（A）\n",
    "charge_max_temp FLOAT 充电过程中电池系统温度探针最大值（℃）\n",
    "charge_min_temp FLOAT 充电过程中电池系统温度探针最小值（℃）\n",
    "charge_energy FLOAT 此充电过程的充电能量（kWh）\n",
    "\"\"\"\n",
    "\n",
    "data = pd.read_csv('data/predict_data_e_train.csv')\n",
    "data[data == 0] = np.nan\n",
    "data = data.dropna(subset=['charge_energy'])\n",
    "data.head()"
   ]
  },
  {
   "cell_type": "code",
   "execution_count": 2,
   "metadata": {},
   "outputs": [
    {
     "data": {
      "text/plain": [
       "vehicle_id             0\n",
       "charge_start_time      0\n",
       "charge_end_time        0\n",
       "mileage                0\n",
       "charge_start_soc      27\n",
       "charge_end_soc       198\n",
       "charge_start_U         0\n",
       "charge_end_U         137\n",
       "charge_start_I         0\n",
       "charge_end_I         317\n",
       "charge_max_temp        7\n",
       "charge_min_temp      448\n",
       "charge_energy          0\n",
       "dtype: int64"
      ]
     },
     "execution_count": 2,
     "metadata": {},
     "output_type": "execute_result"
    }
   ],
   "source": [
    "# 找出缺失值的列\n",
    "data.isnull().sum()"
   ]
  },
  {
   "cell_type": "code",
   "execution_count": 3,
   "metadata": {},
   "outputs": [],
   "source": [
    "# 计算平均值\n",
    "charge_start_soc_mean = data.groupby(['vehicle_id']).charge_start_soc.mean()\n",
    "charge_end_soc_mean = data.groupby(['vehicle_id']).charge_end_soc.mean()\n",
    "charge_end_U_mean = data.groupby(['vehicle_id']).charge_end_U.mean()\n",
    "charge_end_I_mean = data.groupby(['vehicle_id']).charge_end_I.mean()\n",
    "charge_max_temp_mean = data.groupby(['vehicle_id']).charge_max_temp.mean()\n",
    "charge_min_temp_mean = data.groupby(['vehicle_id']).charge_min_temp.mean()\n",
    "\n",
    "# 设置索引\n",
    "data.set_index(['vehicle_id'], inplace=True)\n",
    "\n",
    "# 填充缺失值\n",
    "data.charge_start_soc.fillna(charge_start_soc_mean, inplace=True)\n",
    "data.charge_end_soc.fillna(charge_end_soc_mean, inplace=True)\n",
    "data.charge_end_U.fillna(charge_end_U_mean, inplace=True)\n",
    "data.charge_end_I.fillna(charge_end_I_mean, inplace=True)\n",
    "data.charge_max_temp.fillna(charge_max_temp_mean, inplace=True)\n",
    "data.charge_min_temp.fillna(charge_min_temp_mean, inplace=True)\n",
    "\n",
    "# 重置索引\n",
    "data.reset_index(inplace=True)"
   ]
  },
  {
   "cell_type": "code",
   "execution_count": 4,
   "metadata": {
    "collapsed": true
   },
   "outputs": [],
   "source": [
    "# 两列相减\n",
    "data['time'] = data.apply(lambda row: row.charge_end_time - row.charge_start_time, axis=1)\n",
    "data['soc'] = data.apply(lambda row: row.charge_end_soc - row.charge_start_soc, axis=1)\n",
    "data['U'] = data.apply(lambda row: row.charge_end_U - row.charge_start_U, axis=1)\n",
    "data['I'] = data.apply(lambda row: row.charge_end_I - row.charge_start_I, axis=1)\n",
    "data['temp'] = data.apply(lambda row: row.charge_max_temp - row.charge_min_temp, axis=1)"
   ]
  },
  {
   "cell_type": "code",
   "execution_count": 5,
   "metadata": {},
   "outputs": [
    {
     "name": "stdout",
     "output_type": "stream",
     "text": [
      "2073 692\n"
     ]
    }
   ],
   "source": [
    "selected_features = ['vehicle_id', 'time', 'mileage', 'soc', 'U', 'I', 'temp']\n",
    "\n",
    "# 划分数据集\n",
    "from sklearn.model_selection import train_test_split\n",
    "\n",
    "X_train, X_test, y_train, y_test = train_test_split(data[selected_features], data['charge_energy'], random_state=0)\n",
    "\n",
    "print(len(X_train), len(X_test))"
   ]
  },
  {
   "cell_type": "code",
   "execution_count": 6,
   "metadata": {},
   "outputs": [],
   "source": [
    "# 特征向量化\n",
    "from sklearn.feature_extraction import DictVectorizer\n",
    "\n",
    "dict_vec = DictVectorizer(sparse=False)\n",
    "X_train = dict_vec.fit_transform(X_train.to_dict(orient='record'))\n",
    "X_test = dict_vec.transform(X_test.to_dict(orient='record'))"
   ]
  },
  {
   "cell_type": "code",
   "execution_count": 7,
   "metadata": {},
   "outputs": [
    {
     "name": "stderr",
     "output_type": "stream",
     "text": [
      "/home/littleredhat/anaconda3/lib/python3.5/site-packages/sklearn/cross_validation.py:41: DeprecationWarning: This module was deprecated in version 0.18 in favor of the model_selection module into which all the refactored classes and functions are moved. Also note that the interface of the new CV iterators are different from that of this module. This module will be removed in 0.20.\n",
      "  \"This module will be removed in 0.20.\", DeprecationWarning)\n",
      "/home/littleredhat/anaconda3/lib/python3.5/site-packages/sklearn/grid_search.py:42: DeprecationWarning: This module was deprecated in version 0.18 in favor of the model_selection module into which all the refactored classes and functions are moved. This module will be removed in 0.20.\n",
      "  DeprecationWarning)\n"
     ]
    },
    {
     "data": {
      "text/plain": [
       "([mean: 0.98753, std: 0.00756, params: {'n_estimators': 100},\n",
       "  mean: 0.98746, std: 0.00764, params: {'n_estimators': 200},\n",
       "  mean: 0.98743, std: 0.00757, params: {'n_estimators': 300},\n",
       "  mean: 0.98742, std: 0.00752, params: {'n_estimators': 400},\n",
       "  mean: 0.98735, std: 0.00757, params: {'n_estimators': 500},\n",
       "  mean: 0.98740, std: 0.00743, params: {'n_estimators': 600},\n",
       "  mean: 0.98745, std: 0.00755, params: {'n_estimators': 700},\n",
       "  mean: 0.98734, std: 0.00756, params: {'n_estimators': 800},\n",
       "  mean: 0.98736, std: 0.00759, params: {'n_estimators': 900},\n",
       "  mean: 0.98745, std: 0.00757, params: {'n_estimators': 1000}],\n",
       " {'n_estimators': 100},\n",
       " 0.9875323374182303)"
      ]
     },
     "execution_count": 7,
     "metadata": {},
     "output_type": "execute_result"
    }
   ],
   "source": [
    "# 网格搜索 自动调参\n",
    "from sklearn.ensemble import RandomForestRegressor\n",
    "from sklearn.grid_search import GridSearchCV\n",
    "\n",
    "params = {'n_estimators':list(range(100,1001,100))}\n",
    "\n",
    "grid = GridSearchCV(RandomForestRegressor(), param_grid=params, cv=5)\n",
    "grid.fit(X_train, y_train)\n",
    "\n",
    "grid.grid_scores_, grid.best_params_, grid.best_score_"
   ]
  },
  {
   "cell_type": "code",
   "execution_count": 19,
   "metadata": {},
   "outputs": [
    {
     "data": {
      "text/plain": [
       "12.60062093473373"
      ]
     },
     "execution_count": 19,
     "metadata": {},
     "output_type": "execute_result"
    }
   ],
   "source": [
    "# 预测\n",
    "model = RandomForestRegressor(n_estimators= 100)\n",
    "model.fit(X_train, y_train)\n",
    "y_pred = model.predict(X_test)\n",
    "\n",
    "# 评估\n",
    "e = 0\n",
    "for a, r in zip(y_test, y_pred):\n",
    "    e += ((r- a) / a) ** 2\n",
    "\n",
    "e ** 0.5"
   ]
  },
  {
   "cell_type": "markdown",
   "metadata": {},
   "source": [
    "![title](0.png)"
   ]
  },
  {
   "cell_type": "code",
   "execution_count": 9,
   "metadata": {},
   "outputs": [
    {
     "data": {
      "text/html": [
       "<div>\n",
       "<table border=\"1\" class=\"dataframe\">\n",
       "  <thead>\n",
       "    <tr style=\"text-align: right;\">\n",
       "      <th></th>\n",
       "      <th>vehicle_id</th>\n",
       "      <th>charge_start_time</th>\n",
       "      <th>charge_end_time</th>\n",
       "      <th>mileage</th>\n",
       "      <th>charge_start_soc</th>\n",
       "      <th>charge_end_soc</th>\n",
       "      <th>charge_start_U</th>\n",
       "      <th>charge_end_U</th>\n",
       "      <th>charge_start_I</th>\n",
       "      <th>charge_end_I</th>\n",
       "      <th>charge_max_temp</th>\n",
       "      <th>charge_min_temp</th>\n",
       "    </tr>\n",
       "  </thead>\n",
       "  <tbody>\n",
       "    <tr>\n",
       "      <th>0</th>\n",
       "      <td>1</td>\n",
       "      <td>20171116161033</td>\n",
       "      <td>20171116170903</td>\n",
       "      <td>71710.6</td>\n",
       "      <td>44.0</td>\n",
       "      <td>90.8</td>\n",
       "      <td>370.5</td>\n",
       "      <td>383.9</td>\n",
       "      <td>-29.8</td>\n",
       "      <td>-40.1</td>\n",
       "      <td>21.0</td>\n",
       "      <td>13.0</td>\n",
       "    </tr>\n",
       "    <tr>\n",
       "      <th>1</th>\n",
       "      <td>1</td>\n",
       "      <td>20171210190533</td>\n",
       "      <td>20171210193743</td>\n",
       "      <td>75816.9</td>\n",
       "      <td>34.0</td>\n",
       "      <td>60.4</td>\n",
       "      <td>365.1</td>\n",
       "      <td>379.9</td>\n",
       "      <td>-25.9</td>\n",
       "      <td>-40.4</td>\n",
       "      <td>14.0</td>\n",
       "      <td>9.0</td>\n",
       "    </tr>\n",
       "    <tr>\n",
       "      <th>2</th>\n",
       "      <td>1</td>\n",
       "      <td>20180104213535</td>\n",
       "      <td>20180105042334</td>\n",
       "      <td>79867.3</td>\n",
       "      <td>39.2</td>\n",
       "      <td>100.0</td>\n",
       "      <td>364.0</td>\n",
       "      <td>399.9</td>\n",
       "      <td>-7.6</td>\n",
       "      <td>-7.8</td>\n",
       "      <td>11.0</td>\n",
       "      <td>2.0</td>\n",
       "    </tr>\n",
       "    <tr>\n",
       "      <th>3</th>\n",
       "      <td>1</td>\n",
       "      <td>20180215211935</td>\n",
       "      <td>20180216051456</td>\n",
       "      <td>86867.6</td>\n",
       "      <td>28.8</td>\n",
       "      <td>NaN</td>\n",
       "      <td>362.9</td>\n",
       "      <td>399.9</td>\n",
       "      <td>-7.6</td>\n",
       "      <td>-7.6</td>\n",
       "      <td>8.0</td>\n",
       "      <td>3.0</td>\n",
       "    </tr>\n",
       "    <tr>\n",
       "      <th>4</th>\n",
       "      <td>2</td>\n",
       "      <td>20180525192134</td>\n",
       "      <td>20180526025112</td>\n",
       "      <td>67266.3</td>\n",
       "      <td>35.0</td>\n",
       "      <td>99.0</td>\n",
       "      <td>350.8</td>\n",
       "      <td>397.0</td>\n",
       "      <td>-9.4</td>\n",
       "      <td>-5.0</td>\n",
       "      <td>32.0</td>\n",
       "      <td>27.0</td>\n",
       "    </tr>\n",
       "  </tbody>\n",
       "</table>\n",
       "</div>"
      ],
      "text/plain": [
       "   vehicle_id  charge_start_time  charge_end_time  mileage  charge_start_soc  \\\n",
       "0           1     20171116161033   20171116170903  71710.6              44.0   \n",
       "1           1     20171210190533   20171210193743  75816.9              34.0   \n",
       "2           1     20180104213535   20180105042334  79867.3              39.2   \n",
       "3           1     20180215211935   20180216051456  86867.6              28.8   \n",
       "4           2     20180525192134   20180526025112  67266.3              35.0   \n",
       "\n",
       "   charge_end_soc  charge_start_U  charge_end_U  charge_start_I  charge_end_I  \\\n",
       "0            90.8           370.5         383.9           -29.8         -40.1   \n",
       "1            60.4           365.1         379.9           -25.9         -40.4   \n",
       "2           100.0           364.0         399.9            -7.6          -7.8   \n",
       "3             NaN           362.9         399.9            -7.6          -7.6   \n",
       "4            99.0           350.8         397.0            -9.4          -5.0   \n",
       "\n",
       "   charge_max_temp  charge_min_temp  \n",
       "0             21.0             13.0  \n",
       "1             14.0              9.0  \n",
       "2             11.0              2.0  \n",
       "3              8.0              3.0  \n",
       "4             32.0             27.0  "
      ]
     },
     "execution_count": 9,
     "metadata": {},
     "output_type": "execute_result"
    }
   ],
   "source": [
    "test = pd.read_csv('data/testA.csv')\n",
    "test.head()"
   ]
  },
  {
   "cell_type": "code",
   "execution_count": 10,
   "metadata": {},
   "outputs": [
    {
     "data": {
      "text/plain": [
       "vehicle_id           False\n",
       "charge_start_time    False\n",
       "charge_end_time      False\n",
       "mileage              False\n",
       "charge_start_soc     False\n",
       "charge_end_soc        True\n",
       "charge_start_U       False\n",
       "charge_end_U         False\n",
       "charge_start_I       False\n",
       "charge_end_I         False\n",
       "charge_max_temp      False\n",
       "charge_min_temp      False\n",
       "dtype: bool"
      ]
     },
     "execution_count": 10,
     "metadata": {},
     "output_type": "execute_result"
    }
   ],
   "source": [
    "# 找出缺失值的列\n",
    "test.isnull().any()"
   ]
  },
  {
   "cell_type": "code",
   "execution_count": 11,
   "metadata": {
    "collapsed": true
   },
   "outputs": [],
   "source": [
    "# 填充缺失值的列\n",
    "test['charge_end_soc'].fillna(test['charge_end_soc'].mean(), inplace=True)"
   ]
  },
  {
   "cell_type": "code",
   "execution_count": 12,
   "metadata": {
    "collapsed": true
   },
   "outputs": [],
   "source": [
    "# 两列相减\n",
    "test['time'] = test.apply(lambda row: row.charge_end_time - row.charge_start_time, axis=1)\n",
    "test['soc'] = test.apply(lambda row: row.charge_end_soc - row.charge_start_soc, axis=1)\n",
    "test['U'] = test.apply(lambda row: row.charge_end_U - row.charge_start_U, axis=1)\n",
    "test['I'] = test.apply(lambda row: row.charge_end_I - row.charge_start_I, axis=1)\n",
    "test['temp'] = test.apply(lambda row: row.charge_max_temp - row.charge_min_temp, axis=1)"
   ]
  },
  {
   "cell_type": "code",
   "execution_count": 13,
   "metadata": {},
   "outputs": [],
   "source": [
    "x = dict_vec.transform(test[selected_features].to_dict(orient='record'))\n",
    "y = model.predict(x)"
   ]
  },
  {
   "cell_type": "code",
   "execution_count": 14,
   "metadata": {},
   "outputs": [
    {
     "data": {
      "text/plain": [
       "27"
      ]
     },
     "execution_count": 14,
     "metadata": {},
     "output_type": "execute_result"
    }
   ],
   "source": [
    "ids = list(test['vehicle_id'])\n",
    "len(ids)"
   ]
  },
  {
   "cell_type": "code",
   "execution_count": 15,
   "metadata": {},
   "outputs": [],
   "source": [
    "with open('submit-A_张彬城_暨南大学_15521106350_20181011.csv', 'w') as f:\n",
    "    f.write('vehicle_id,charge_energy\\n')\n",
    "    for _id, _y in zip(ids, y):\n",
    "        line = '%d,%d\\n' % (_id, _y)\n",
    "        f.write(line)"
   ]
  }
 ],
 "metadata": {
  "anaconda-cloud": {},
  "kernelspec": {
   "display_name": "Python 3",
   "language": "python",
   "name": "python3"
  },
  "language_info": {
   "codemirror_mode": {
    "name": "ipython",
    "version": 3
   },
   "file_extension": ".py",
   "mimetype": "text/x-python",
   "name": "python",
   "nbconvert_exporter": "python",
   "pygments_lexer": "ipython3",
   "version": "3.6.5"
  }
 },
 "nbformat": 4,
 "nbformat_minor": 1
}
