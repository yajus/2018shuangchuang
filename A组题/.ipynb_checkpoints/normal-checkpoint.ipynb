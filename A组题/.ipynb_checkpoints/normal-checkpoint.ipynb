{
 "cells": [
  {
   "cell_type": "code",
   "execution_count": 16,
   "metadata": {},
   "outputs": [
    {
     "data": {
      "text/html": [
       "<div>\n",
       "<table border=\"1\" class=\"dataframe\">\n",
       "  <thead>\n",
       "    <tr style=\"text-align: right;\">\n",
       "      <th></th>\n",
       "      <th>vehicle_id</th>\n",
       "      <th>charge_start_time</th>\n",
       "      <th>charge_end_time</th>\n",
       "      <th>mileage</th>\n",
       "      <th>charge_start_soc</th>\n",
       "      <th>charge_end_soc</th>\n",
       "      <th>charge_start_U</th>\n",
       "      <th>charge_end_U</th>\n",
       "      <th>charge_start_I</th>\n",
       "      <th>charge_end_I</th>\n",
       "      <th>charge_max_temp</th>\n",
       "      <th>charge_min_temp</th>\n",
       "      <th>charge_energy</th>\n",
       "    </tr>\n",
       "  </thead>\n",
       "  <tbody>\n",
       "    <tr>\n",
       "      <th>0</th>\n",
       "      <td>1</td>\n",
       "      <td>20171101113839</td>\n",
       "      <td>20171101144639</td>\n",
       "      <td>69054.6</td>\n",
       "      <td>61.2</td>\n",
       "      <td>90.0</td>\n",
       "      <td>367.8</td>\n",
       "      <td>377.3</td>\n",
       "      <td>-7.7</td>\n",
       "      <td>-7.8</td>\n",
       "      <td>21.0</td>\n",
       "      <td>16.0</td>\n",
       "      <td>9.071</td>\n",
       "    </tr>\n",
       "    <tr>\n",
       "      <th>1</th>\n",
       "      <td>1</td>\n",
       "      <td>20171101212850</td>\n",
       "      <td>20171102045945</td>\n",
       "      <td>69180.2</td>\n",
       "      <td>34.0</td>\n",
       "      <td>100.0</td>\n",
       "      <td>363.4</td>\n",
       "      <td>400.6</td>\n",
       "      <td>-7.7</td>\n",
       "      <td>-7.7</td>\n",
       "      <td>19.0</td>\n",
       "      <td>15.0</td>\n",
       "      <td>21.745</td>\n",
       "    </tr>\n",
       "    <tr>\n",
       "      <th>2</th>\n",
       "      <td>1</td>\n",
       "      <td>20171102121246</td>\n",
       "      <td>20171102154916</td>\n",
       "      <td>69284.2</td>\n",
       "      <td>54.0</td>\n",
       "      <td>87.2</td>\n",
       "      <td>367.4</td>\n",
       "      <td>377.0</td>\n",
       "      <td>-7.7</td>\n",
       "      <td>-7.8</td>\n",
       "      <td>23.0</td>\n",
       "      <td>17.0</td>\n",
       "      <td>10.434</td>\n",
       "    </tr>\n",
       "    <tr>\n",
       "      <th>3</th>\n",
       "      <td>1</td>\n",
       "      <td>20171102204546</td>\n",
       "      <td>20171103025825</td>\n",
       "      <td>69377.0</td>\n",
       "      <td>46.0</td>\n",
       "      <td>100.0</td>\n",
       "      <td>366.6</td>\n",
       "      <td>399.0</td>\n",
       "      <td>-7.7</td>\n",
       "      <td>-7.8</td>\n",
       "      <td>21.0</td>\n",
       "      <td>16.0</td>\n",
       "      <td>17.990</td>\n",
       "    </tr>\n",
       "    <tr>\n",
       "      <th>4</th>\n",
       "      <td>1</td>\n",
       "      <td>20171103164054</td>\n",
       "      <td>20171103170824</td>\n",
       "      <td>69431.6</td>\n",
       "      <td>75.2</td>\n",
       "      <td>97.2</td>\n",
       "      <td>372.8</td>\n",
       "      <td>385.8</td>\n",
       "      <td>-29.9</td>\n",
       "      <td>-40.1</td>\n",
       "      <td>18.0</td>\n",
       "      <td>15.0</td>\n",
       "      <td>6.990</td>\n",
       "    </tr>\n",
       "  </tbody>\n",
       "</table>\n",
       "</div>"
      ],
      "text/plain": [
       "   vehicle_id  charge_start_time  charge_end_time  mileage  charge_start_soc  \\\n",
       "0           1     20171101113839   20171101144639  69054.6              61.2   \n",
       "1           1     20171101212850   20171102045945  69180.2              34.0   \n",
       "2           1     20171102121246   20171102154916  69284.2              54.0   \n",
       "3           1     20171102204546   20171103025825  69377.0              46.0   \n",
       "4           1     20171103164054   20171103170824  69431.6              75.2   \n",
       "\n",
       "   charge_end_soc  charge_start_U  charge_end_U  charge_start_I  charge_end_I  \\\n",
       "0            90.0           367.8         377.3            -7.7          -7.8   \n",
       "1           100.0           363.4         400.6            -7.7          -7.7   \n",
       "2            87.2           367.4         377.0            -7.7          -7.8   \n",
       "3           100.0           366.6         399.0            -7.7          -7.8   \n",
       "4            97.2           372.8         385.8           -29.9         -40.1   \n",
       "\n",
       "   charge_max_temp  charge_min_temp  charge_energy  \n",
       "0             21.0             16.0          9.071  \n",
       "1             19.0             15.0         21.745  \n",
       "2             23.0             17.0         10.434  \n",
       "3             21.0             16.0         17.990  \n",
       "4             18.0             15.0          6.990  "
      ]
     },
     "execution_count": 16,
     "metadata": {},
     "output_type": "execute_result"
    }
   ],
   "source": [
    "import pandas as pd\n",
    "import numpy as np\n",
    "\n",
    "\"\"\"\n",
    "vehicle_id STRING 车辆唯一标志码\n",
    "charge_start_time INT 充电开始时间\n",
    "charge_end_time INT 充电结束时间\n",
    "mileage FLOAT 充电开始时刻车辆仪表里程（km）\n",
    "charge_start_soc INT 充电开始时刻动力电池 SOC\n",
    "charge_end_soc INT 充电结束时刻动力电池 SOC\n",
    "charge_start_U FLOAT 充电开始时刻动力电池总电压（V）\n",
    "charge_end_U FLOAT 充电结束时刻动力电池总电压（V）\n",
    "charge_start_I FLOAT 充电开始时刻动力电池总电流（A）\n",
    "charge_end_I FLOAT 充电结束时刻动力电池总电流（A）\n",
    "charge_max_temp FLOAT 充电过程中电池系统温度探针最大值（℃）\n",
    "charge_min_temp FLOAT 充电过程中电池系统温度探针最小值（℃）\n",
    "charge_energy FLOAT 此充电过程的充电能量（kWh）\n",
    "\"\"\"\n",
    "\n",
    "data = pd.read_csv('data/predict_data_e_train.csv')\n",
    "data[data == 0] = np.nan\n",
    "data.head()"
   ]
  },
  {
   "cell_type": "code",
   "execution_count": 17,
   "metadata": {},
   "outputs": [
    {
     "data": {
      "text/plain": [
       "vehicle_id           False\n",
       "charge_start_time    False\n",
       "charge_end_time      False\n",
       "mileage              False\n",
       "charge_start_soc      True\n",
       "charge_end_soc        True\n",
       "charge_start_U       False\n",
       "charge_end_U          True\n",
       "charge_start_I       False\n",
       "charge_end_I          True\n",
       "charge_max_temp       True\n",
       "charge_min_temp       True\n",
       "charge_energy         True\n",
       "dtype: bool"
      ]
     },
     "execution_count": 17,
     "metadata": {},
     "output_type": "execute_result"
    }
   ],
   "source": [
    "# 找出缺失值的列\n",
    "data.isnull().any()"
   ]
  },
  {
   "cell_type": "code",
   "execution_count": 18,
   "metadata": {},
   "outputs": [],
   "source": [
    "# 填充缺失值的列\n",
    "data['charge_start_soc'].fillna(data['charge_start_soc'].mean(), inplace=True)\n",
    "data['charge_end_soc'].fillna(data['charge_end_soc'].mean(), inplace=True)\n",
    "data['charge_start_U'].fillna(data['charge_start_U'].mean(), inplace=True)\n",
    "data['charge_end_U'].fillna(data['charge_end_U'].mean(), inplace=True)\n",
    "data['charge_start_I'].fillna(data['charge_start_I'].mean(), inplace=True)\n",
    "data['charge_end_I'].fillna(data['charge_end_I'].mean(), inplace=True)\n",
    "data['charge_max_temp'].fillna(data['charge_max_temp'].mean(), inplace=True)\n",
    "data['charge_min_temp'].fillna(data['charge_min_temp'].mean(), inplace=True)\n",
    "\n",
    "data['charge_energy'].fillna(data['charge_energy'].mean(), inplace=True)"
   ]
  },
  {
   "cell_type": "code",
   "execution_count": 19,
   "metadata": {},
   "outputs": [
    {
     "name": "stdout",
     "output_type": "stream",
     "text": [
      "2782 1947 835\n"
     ]
    }
   ],
   "source": [
    "num = len(data)\n",
    "data.sample(frac=1)\n",
    "train = data[:int(num*0.7)]\n",
    "test = data[int(num*0.7):]\n",
    "print(num, len(train), len(test))#charge_energy"
   ]
  },
  {
   "cell_type": "code",
   "execution_count": 20,
   "metadata": {
    "collapsed": true
   },
   "outputs": [],
   "source": [
    "selected_features = ['vehicle_id',\n",
    "                     'charge_start_time', 'charge_end_time',\n",
    "                     'mileage',\n",
    "                     'charge_start_soc', 'charge_end_soc',\n",
    "                     'charge_start_U','charge_end_U',\n",
    "                     'charge_start_I', 'charge_end_I',\n",
    "                     'charge_max_temp', 'charge_min_temp']\n",
    "\n",
    "X_train = train[selected_features]\n",
    "X_test = test[selected_features]\n",
    "y_train = train['charge_energy']\n",
    "y_test = test['charge_energy']"
   ]
  },
  {
   "cell_type": "code",
   "execution_count": 21,
   "metadata": {
    "collapsed": true
   },
   "outputs": [],
   "source": [
    "# 特征向量化\n",
    "from sklearn.feature_extraction import DictVectorizer\n",
    "dict_vec = DictVectorizer(sparse=False)\n",
    "\n",
    "X_train = dict_vec.fit_transform(X_train.to_dict(orient='record'))\n",
    "X_test = dict_vec.transform(X_test.to_dict(orient='record'))"
   ]
  },
  {
   "cell_type": "code",
   "execution_count": 22,
   "metadata": {},
   "outputs": [],
   "source": [
    "# 随机森林回归模型预测\n",
    "from sklearn.ensemble import RandomForestRegressor\n",
    "model = RandomForestRegressor()\n",
    "\n",
    "model.fit(X_train, y_train)\n",
    "y_pred = model.predict(X_test)"
   ]
  },
  {
   "cell_type": "markdown",
   "metadata": {},
   "source": [
    "![title](0.png)"
   ]
  },
  {
   "cell_type": "code",
   "execution_count": 23,
   "metadata": {},
   "outputs": [],
   "source": [
    "y_pred = list(y_pred)\n",
    "y_test = list(y_test)"
   ]
  },
  {
   "cell_type": "code",
   "execution_count": 24,
   "metadata": {},
   "outputs": [
    {
     "data": {
      "text/plain": [
       "0.095943785333719639"
      ]
     },
     "execution_count": 24,
     "metadata": {},
     "output_type": "execute_result"
    }
   ],
   "source": [
    "e = 0\n",
    "for a, r in zip(y_test, y_pred):\n",
    "    e = ((r- a) / float(a)) ** 2\n",
    "\n",
    "e"
   ]
  },
  {
   "cell_type": "markdown",
   "metadata": {},
   "source": [
    "![title](创新组.png)"
   ]
  },
  {
   "cell_type": "code",
   "execution_count": 25,
   "metadata": {},
   "outputs": [
    {
     "data": {
      "text/html": [
       "<div>\n",
       "<table border=\"1\" class=\"dataframe\">\n",
       "  <thead>\n",
       "    <tr style=\"text-align: right;\">\n",
       "      <th></th>\n",
       "      <th>vehicle_id</th>\n",
       "      <th>charge_start_time</th>\n",
       "      <th>charge_end_time</th>\n",
       "      <th>mileage</th>\n",
       "      <th>charge_start_soc</th>\n",
       "      <th>charge_end_soc</th>\n",
       "      <th>charge_start_U</th>\n",
       "      <th>charge_end_U</th>\n",
       "      <th>charge_start_I</th>\n",
       "      <th>charge_end_I</th>\n",
       "      <th>charge_max_temp</th>\n",
       "      <th>charge_min_temp</th>\n",
       "    </tr>\n",
       "  </thead>\n",
       "  <tbody>\n",
       "    <tr>\n",
       "      <th>0</th>\n",
       "      <td>1</td>\n",
       "      <td>20171116161033</td>\n",
       "      <td>20171116170903</td>\n",
       "      <td>71710.6</td>\n",
       "      <td>44.0</td>\n",
       "      <td>90.8</td>\n",
       "      <td>370.5</td>\n",
       "      <td>383.9</td>\n",
       "      <td>-29.8</td>\n",
       "      <td>-40.1</td>\n",
       "      <td>21.0</td>\n",
       "      <td>13.0</td>\n",
       "    </tr>\n",
       "    <tr>\n",
       "      <th>1</th>\n",
       "      <td>1</td>\n",
       "      <td>20171210190533</td>\n",
       "      <td>20171210193743</td>\n",
       "      <td>75816.9</td>\n",
       "      <td>34.0</td>\n",
       "      <td>60.4</td>\n",
       "      <td>365.1</td>\n",
       "      <td>379.9</td>\n",
       "      <td>-25.9</td>\n",
       "      <td>-40.4</td>\n",
       "      <td>14.0</td>\n",
       "      <td>9.0</td>\n",
       "    </tr>\n",
       "    <tr>\n",
       "      <th>2</th>\n",
       "      <td>1</td>\n",
       "      <td>20180104213535</td>\n",
       "      <td>20180105042334</td>\n",
       "      <td>79867.3</td>\n",
       "      <td>39.2</td>\n",
       "      <td>100.0</td>\n",
       "      <td>364.0</td>\n",
       "      <td>399.9</td>\n",
       "      <td>-7.6</td>\n",
       "      <td>-7.8</td>\n",
       "      <td>11.0</td>\n",
       "      <td>2.0</td>\n",
       "    </tr>\n",
       "    <tr>\n",
       "      <th>3</th>\n",
       "      <td>1</td>\n",
       "      <td>20180215211935</td>\n",
       "      <td>20180216051456</td>\n",
       "      <td>86867.6</td>\n",
       "      <td>28.8</td>\n",
       "      <td>NaN</td>\n",
       "      <td>362.9</td>\n",
       "      <td>399.9</td>\n",
       "      <td>-7.6</td>\n",
       "      <td>-7.6</td>\n",
       "      <td>8.0</td>\n",
       "      <td>3.0</td>\n",
       "    </tr>\n",
       "    <tr>\n",
       "      <th>4</th>\n",
       "      <td>2</td>\n",
       "      <td>20180525192134</td>\n",
       "      <td>20180526025112</td>\n",
       "      <td>67266.3</td>\n",
       "      <td>35.0</td>\n",
       "      <td>99.0</td>\n",
       "      <td>350.8</td>\n",
       "      <td>397.0</td>\n",
       "      <td>-9.4</td>\n",
       "      <td>-5.0</td>\n",
       "      <td>32.0</td>\n",
       "      <td>27.0</td>\n",
       "    </tr>\n",
       "  </tbody>\n",
       "</table>\n",
       "</div>"
      ],
      "text/plain": [
       "   vehicle_id  charge_start_time  charge_end_time  mileage  charge_start_soc  \\\n",
       "0           1     20171116161033   20171116170903  71710.6              44.0   \n",
       "1           1     20171210190533   20171210193743  75816.9              34.0   \n",
       "2           1     20180104213535   20180105042334  79867.3              39.2   \n",
       "3           1     20180215211935   20180216051456  86867.6              28.8   \n",
       "4           2     20180525192134   20180526025112  67266.3              35.0   \n",
       "\n",
       "   charge_end_soc  charge_start_U  charge_end_U  charge_start_I  charge_end_I  \\\n",
       "0            90.8           370.5         383.9           -29.8         -40.1   \n",
       "1            60.4           365.1         379.9           -25.9         -40.4   \n",
       "2           100.0           364.0         399.9            -7.6          -7.8   \n",
       "3             NaN           362.9         399.9            -7.6          -7.6   \n",
       "4            99.0           350.8         397.0            -9.4          -5.0   \n",
       "\n",
       "   charge_max_temp  charge_min_temp  \n",
       "0             21.0             13.0  \n",
       "1             14.0              9.0  \n",
       "2             11.0              2.0  \n",
       "3              8.0              3.0  \n",
       "4             32.0             27.0  "
      ]
     },
     "execution_count": 25,
     "metadata": {},
     "output_type": "execute_result"
    }
   ],
   "source": [
    "test = pd.read_csv('data/testA.csv')\n",
    "test.head()"
   ]
  },
  {
   "cell_type": "code",
   "execution_count": 26,
   "metadata": {},
   "outputs": [
    {
     "data": {
      "text/plain": [
       "vehicle_id           False\n",
       "charge_start_time    False\n",
       "charge_end_time      False\n",
       "mileage              False\n",
       "charge_start_soc     False\n",
       "charge_end_soc        True\n",
       "charge_start_U       False\n",
       "charge_end_U         False\n",
       "charge_start_I       False\n",
       "charge_end_I         False\n",
       "charge_max_temp      False\n",
       "charge_min_temp      False\n",
       "dtype: bool"
      ]
     },
     "execution_count": 26,
     "metadata": {},
     "output_type": "execute_result"
    }
   ],
   "source": [
    "# 找出缺失值的列\n",
    "test.isnull().any()"
   ]
  },
  {
   "cell_type": "code",
   "execution_count": 27,
   "metadata": {
    "collapsed": true
   },
   "outputs": [],
   "source": [
    "# 填充缺失值的列\n",
    "test['charge_end_soc'].fillna(test['charge_end_soc'].mean(), inplace=True)"
   ]
  },
  {
   "cell_type": "code",
   "execution_count": 28,
   "metadata": {},
   "outputs": [],
   "source": [
    "x = dict_vec.transform(test[selected_features].to_dict(orient='record'))\n",
    "y = model.predict(x)"
   ]
  },
  {
   "cell_type": "code",
   "execution_count": 29,
   "metadata": {},
   "outputs": [
    {
     "data": {
      "text/plain": [
       "27"
      ]
     },
     "execution_count": 29,
     "metadata": {},
     "output_type": "execute_result"
    }
   ],
   "source": [
    "ids = list(test['vehicle_id'])\n",
    "len(ids)"
   ]
  },
  {
   "cell_type": "code",
   "execution_count": 30,
   "metadata": {},
   "outputs": [],
   "source": [
    "with open('submit-A_张彬城_暨南大学_15521106350_20181009.csv', 'w') as f:\n",
    "    f.write('vehicle_id,charge_energy\\n')\n",
    "    for _id, _y in zip(ids, y):\n",
    "        line = '%d,%d\\n' % (_id, _y)\n",
    "        f.write(line)"
   ]
  }
 ],
 "metadata": {
  "anaconda-cloud": {},
  "kernelspec": {
   "display_name": "Python 3",
   "language": "python",
   "name": "python3"
  },
  "language_info": {
   "codemirror_mode": {
    "name": "ipython",
    "version": 3
   },
   "file_extension": ".py",
   "mimetype": "text/x-python",
   "name": "python",
   "nbconvert_exporter": "python",
   "pygments_lexer": "ipython3",
   "version": "3.6.5"
  }
 },
 "nbformat": 4,
 "nbformat_minor": 1
}
