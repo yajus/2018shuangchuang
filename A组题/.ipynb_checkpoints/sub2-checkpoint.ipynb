{
 "cells": [
  {
   "cell_type": "code",
   "execution_count": 33,
   "metadata": {},
   "outputs": [
    {
     "data": {
      "text/html": [
       "<div>\n",
       "<style scoped>\n",
       "    .dataframe tbody tr th:only-of-type {\n",
       "        vertical-align: middle;\n",
       "    }\n",
       "\n",
       "    .dataframe tbody tr th {\n",
       "        vertical-align: top;\n",
       "    }\n",
       "\n",
       "    .dataframe thead th {\n",
       "        text-align: right;\n",
       "    }\n",
       "</style>\n",
       "<table border=\"1\" class=\"dataframe\">\n",
       "  <thead>\n",
       "    <tr style=\"text-align: right;\">\n",
       "      <th></th>\n",
       "      <th>Unnamed: 0</th>\n",
       "      <th>vehicle_id</th>\n",
       "      <th>charge_start_time</th>\n",
       "      <th>charge_end_time</th>\n",
       "      <th>mileage</th>\n",
       "      <th>charge_start_soc</th>\n",
       "      <th>charge_end_soc</th>\n",
       "      <th>charge_start_U</th>\n",
       "      <th>charge_end_U</th>\n",
       "      <th>charge_start_I</th>\n",
       "      <th>charge_end_I</th>\n",
       "      <th>charge_max_temp</th>\n",
       "      <th>charge_min_temp</th>\n",
       "      <th>charge_energy</th>\n",
       "    </tr>\n",
       "  </thead>\n",
       "  <tbody>\n",
       "    <tr>\n",
       "      <th>0</th>\n",
       "      <td>1873</td>\n",
       "      <td>4</td>\n",
       "      <td>20180511002106</td>\n",
       "      <td>20180511002116</td>\n",
       "      <td>109028.1</td>\n",
       "      <td>100.0</td>\n",
       "      <td>100.0</td>\n",
       "      <td>540.6</td>\n",
       "      <td>540.6</td>\n",
       "      <td>-7.0</td>\n",
       "      <td>-2.0</td>\n",
       "      <td>34.0</td>\n",
       "      <td>28.0</td>\n",
       "      <td>0.007</td>\n",
       "    </tr>\n",
       "    <tr>\n",
       "      <th>1</th>\n",
       "      <td>1418</td>\n",
       "      <td>4</td>\n",
       "      <td>20180227140642</td>\n",
       "      <td>20180227141722</td>\n",
       "      <td>92210.2</td>\n",
       "      <td>90.0</td>\n",
       "      <td>100.0</td>\n",
       "      <td>541.5</td>\n",
       "      <td>557.1</td>\n",
       "      <td>-20.0</td>\n",
       "      <td>-3.0</td>\n",
       "      <td>29.0</td>\n",
       "      <td>22.0</td>\n",
       "      <td>8.880</td>\n",
       "    </tr>\n",
       "    <tr>\n",
       "      <th>2</th>\n",
       "      <td>1352</td>\n",
       "      <td>4</td>\n",
       "      <td>20180210230316</td>\n",
       "      <td>20180210235916</td>\n",
       "      <td>89298.7</td>\n",
       "      <td>37.0</td>\n",
       "      <td>92.0</td>\n",
       "      <td>541.2</td>\n",
       "      <td>554.0</td>\n",
       "      <td>-64.0</td>\n",
       "      <td>-100.0</td>\n",
       "      <td>33.0</td>\n",
       "      <td>13.0</td>\n",
       "      <td>46.930</td>\n",
       "    </tr>\n",
       "    <tr>\n",
       "      <th>3</th>\n",
       "      <td>2167</td>\n",
       "      <td>4</td>\n",
       "      <td>20180629110639</td>\n",
       "      <td>20180629110649</td>\n",
       "      <td>120515.3</td>\n",
       "      <td>100.0</td>\n",
       "      <td>100.0</td>\n",
       "      <td>542.7</td>\n",
       "      <td>542.7</td>\n",
       "      <td>-1.0</td>\n",
       "      <td>-1.0</td>\n",
       "      <td>43.0</td>\n",
       "      <td>39.0</td>\n",
       "      <td>0.002</td>\n",
       "    </tr>\n",
       "    <tr>\n",
       "      <th>4</th>\n",
       "      <td>366</td>\n",
       "      <td>2</td>\n",
       "      <td>20180623134029</td>\n",
       "      <td>20180623141830</td>\n",
       "      <td>76559.3</td>\n",
       "      <td>4.0</td>\n",
       "      <td>68.0</td>\n",
       "      <td>337.6</td>\n",
       "      <td>379.1</td>\n",
       "      <td>-60.4</td>\n",
       "      <td>NaN</td>\n",
       "      <td>37.0</td>\n",
       "      <td>31.0</td>\n",
       "      <td>23.496</td>\n",
       "    </tr>\n",
       "  </tbody>\n",
       "</table>\n",
       "</div>"
      ],
      "text/plain": [
       "   Unnamed: 0  vehicle_id  charge_start_time  charge_end_time   mileage  \\\n",
       "0        1873           4     20180511002106   20180511002116  109028.1   \n",
       "1        1418           4     20180227140642   20180227141722   92210.2   \n",
       "2        1352           4     20180210230316   20180210235916   89298.7   \n",
       "3        2167           4     20180629110639   20180629110649  120515.3   \n",
       "4         366           2     20180623134029   20180623141830   76559.3   \n",
       "\n",
       "   charge_start_soc  charge_end_soc  charge_start_U  charge_end_U  \\\n",
       "0             100.0           100.0           540.6         540.6   \n",
       "1              90.0           100.0           541.5         557.1   \n",
       "2              37.0            92.0           541.2         554.0   \n",
       "3             100.0           100.0           542.7         542.7   \n",
       "4               4.0            68.0           337.6         379.1   \n",
       "\n",
       "   charge_start_I  charge_end_I  charge_max_temp  charge_min_temp  \\\n",
       "0            -7.0          -2.0             34.0             28.0   \n",
       "1           -20.0          -3.0             29.0             22.0   \n",
       "2           -64.0        -100.0             33.0             13.0   \n",
       "3            -1.0          -1.0             43.0             39.0   \n",
       "4           -60.4           NaN             37.0             31.0   \n",
       "\n",
       "   charge_energy  \n",
       "0          0.007  \n",
       "1          8.880  \n",
       "2         46.930  \n",
       "3          0.002  \n",
       "4         23.496  "
      ]
     },
     "execution_count": 33,
     "metadata": {},
     "output_type": "execute_result"
    }
   ],
   "source": [
    "import pandas as pd\n",
    "import numpy as np\n",
    "\n",
    "\"\"\"\n",
    "vehicle_id STRING 车辆唯一标志码\n",
    "charge_start_time INT 充电开始时间\n",
    "charge_end_time INT 充电结束时间\n",
    "mileage FLOAT 充电开始时刻车辆仪表里程（km）\n",
    "charge_start_soc INT 充电开始时刻动力电池 SOC\n",
    "charge_end_soc INT 充电结束时刻动力电池 SOC\n",
    "charge_start_U FLOAT 充电开始时刻动力电池总电压（V）\n",
    "charge_end_U FLOAT 充电结束时刻动力电池总电压（V）\n",
    "charge_start_I FLOAT 充电开始时刻动力电池总电流（A）\n",
    "charge_end_I FLOAT 充电结束时刻动力电池总电流（A）\n",
    "charge_max_temp FLOAT 充电过程中电池系统温度探针最大值（℃）\n",
    "charge_min_temp FLOAT 充电过程中电池系统温度探针最小值（℃）\n",
    "charge_energy FLOAT 此充电过程的充电能量（kWh）\n",
    "\"\"\"\n",
    "\n",
    "data = pd.read_csv('data/train.csv')\n",
    "data.head()"
   ]
  },
  {
   "cell_type": "code",
   "execution_count": 34,
   "metadata": {},
   "outputs": [
    {
     "data": {
      "text/plain": [
       "Unnamed: 0           False\n",
       "vehicle_id           False\n",
       "charge_start_time    False\n",
       "charge_end_time      False\n",
       "mileage              False\n",
       "charge_start_soc      True\n",
       "charge_end_soc        True\n",
       "charge_start_U       False\n",
       "charge_end_U          True\n",
       "charge_start_I       False\n",
       "charge_end_I          True\n",
       "charge_max_temp       True\n",
       "charge_min_temp       True\n",
       "charge_energy        False\n",
       "dtype: bool"
      ]
     },
     "execution_count": 34,
     "metadata": {},
     "output_type": "execute_result"
    }
   ],
   "source": [
    "# 找出缺失值的列\n",
    "data.isnull().any()"
   ]
  },
  {
   "cell_type": "code",
   "execution_count": 35,
   "metadata": {},
   "outputs": [],
   "source": [
    "# 计算平均值\n",
    "charge_start_soc_mean = data.groupby(['vehicle_id']).charge_start_soc.mean()\n",
    "charge_end_soc_mean = data.groupby(['vehicle_id']).charge_end_soc.mean()\n",
    "charge_end_U_mean = data.groupby(['vehicle_id']).charge_end_U.mean()\n",
    "charge_end_I_mean = data.groupby(['vehicle_id']).charge_end_I.mean()\n",
    "charge_max_temp_mean = data.groupby(['vehicle_id']).charge_max_temp.mean()\n",
    "charge_min_temp_mean = data.groupby(['vehicle_id']).charge_min_temp.mean()\n",
    "\n",
    "# 设置索引\n",
    "data.set_index(['vehicle_id'], inplace=True)\n",
    "\n",
    "# 填充缺失值\n",
    "data.charge_start_soc.fillna(charge_start_soc_mean, inplace=True)\n",
    "data.charge_end_soc.fillna(charge_end_soc_mean, inplace=True)\n",
    "data.charge_end_U.fillna(charge_end_U_mean, inplace=True)\n",
    "data.charge_end_I.fillna(charge_end_I_mean, inplace=True)\n",
    "data.charge_max_temp.fillna(charge_max_temp_mean, inplace=True)\n",
    "data.charge_min_temp.fillna(charge_min_temp_mean, inplace=True)\n",
    "\n",
    "# 重置索引\n",
    "data.reset_index(inplace=True)"
   ]
  },
  {
   "cell_type": "code",
   "execution_count": 36,
   "metadata": {},
   "outputs": [],
   "source": [
    "# 两列相减\n",
    "data['time'] = data.apply(lambda row: row.charge_end_time - row.charge_start_time, axis=1)\n",
    "data['soc'] = data.apply(lambda row: row.charge_end_soc - row.charge_start_soc, axis=1)\n",
    "data['U'] = data.apply(lambda row: row.charge_end_U - row.charge_start_U, axis=1)\n",
    "data['I'] = data.apply(lambda row: row.charge_end_I - row.charge_start_I, axis=1)\n",
    "data['temp'] = data.apply(lambda row: row.charge_max_temp - row.charge_min_temp, axis=1)"
   ]
  },
  {
   "cell_type": "code",
   "execution_count": 37,
   "metadata": {},
   "outputs": [
    {
     "name": "stdout",
     "output_type": "stream",
     "text": [
      "2765 1935 830\n"
     ]
    }
   ],
   "source": [
    "num = len(data)\n",
    "\n",
    "train = data[:int(num*0.7)]\n",
    "test = data[int(num*0.7):]\n",
    "print(num, len(train), len(test))"
   ]
  },
  {
   "cell_type": "code",
   "execution_count": 38,
   "metadata": {},
   "outputs": [],
   "source": [
    "selected_features = ['vehicle_id',\n",
    "                     'time',\n",
    "                     'mileage',\n",
    "                     'soc',\n",
    "                     'U',\n",
    "                     'I',\n",
    "                     'temp']\n",
    "\n",
    "X_train = train[selected_features]\n",
    "X_test = test[selected_features]\n",
    "y_train = train['charge_energy']\n",
    "y_test = test['charge_energy']"
   ]
  },
  {
   "cell_type": "code",
   "execution_count": 39,
   "metadata": {},
   "outputs": [],
   "source": [
    "# 特征向量化\n",
    "from sklearn.feature_extraction import DictVectorizer\n",
    "dict_vec = DictVectorizer(sparse=False)\n",
    "\n",
    "X_train = dict_vec.fit_transform(X_train.to_dict(orient='record'))\n",
    "X_test = dict_vec.transform(X_test.to_dict(orient='record'))"
   ]
  },
  {
   "cell_type": "code",
   "execution_count": 40,
   "metadata": {},
   "outputs": [
    {
     "data": {
      "text/plain": [
       "54.60484441158645"
      ]
     },
     "execution_count": 40,
     "metadata": {},
     "output_type": "execute_result"
    }
   ],
   "source": [
    "# 预测\n",
    "from sklearn.ensemble import RandomForestRegressor\n",
    "model = RandomForestRegressor() # 随机森林回归模型\n",
    "\n",
    "model.fit(X_train, y_train)\n",
    "y_pred = model.predict(X_test)\n",
    "\n",
    "# 评估\n",
    "e = 0\n",
    "for a, r in zip(y_test, y_pred):\n",
    "    e += ((r- a) / a) ** 2\n",
    "\n",
    "e ** 0.5"
   ]
  },
  {
   "cell_type": "markdown",
   "metadata": {},
   "source": [
    "![title](0.png)"
   ]
  },
  {
   "cell_type": "code",
   "execution_count": 11,
   "metadata": {},
   "outputs": [
    {
     "data": {
      "text/html": [
       "<div>\n",
       "<table border=\"1\" class=\"dataframe\">\n",
       "  <thead>\n",
       "    <tr style=\"text-align: right;\">\n",
       "      <th></th>\n",
       "      <th>vehicle_id</th>\n",
       "      <th>charge_start_time</th>\n",
       "      <th>charge_end_time</th>\n",
       "      <th>mileage</th>\n",
       "      <th>charge_start_soc</th>\n",
       "      <th>charge_end_soc</th>\n",
       "      <th>charge_start_U</th>\n",
       "      <th>charge_end_U</th>\n",
       "      <th>charge_start_I</th>\n",
       "      <th>charge_end_I</th>\n",
       "      <th>charge_max_temp</th>\n",
       "      <th>charge_min_temp</th>\n",
       "    </tr>\n",
       "  </thead>\n",
       "  <tbody>\n",
       "    <tr>\n",
       "      <th>0</th>\n",
       "      <td>1</td>\n",
       "      <td>20171116161033</td>\n",
       "      <td>20171116170903</td>\n",
       "      <td>71710.6</td>\n",
       "      <td>44.0</td>\n",
       "      <td>90.8</td>\n",
       "      <td>370.5</td>\n",
       "      <td>383.9</td>\n",
       "      <td>-29.8</td>\n",
       "      <td>-40.1</td>\n",
       "      <td>21.0</td>\n",
       "      <td>13.0</td>\n",
       "    </tr>\n",
       "    <tr>\n",
       "      <th>1</th>\n",
       "      <td>1</td>\n",
       "      <td>20171210190533</td>\n",
       "      <td>20171210193743</td>\n",
       "      <td>75816.9</td>\n",
       "      <td>34.0</td>\n",
       "      <td>60.4</td>\n",
       "      <td>365.1</td>\n",
       "      <td>379.9</td>\n",
       "      <td>-25.9</td>\n",
       "      <td>-40.4</td>\n",
       "      <td>14.0</td>\n",
       "      <td>9.0</td>\n",
       "    </tr>\n",
       "    <tr>\n",
       "      <th>2</th>\n",
       "      <td>1</td>\n",
       "      <td>20180104213535</td>\n",
       "      <td>20180105042334</td>\n",
       "      <td>79867.3</td>\n",
       "      <td>39.2</td>\n",
       "      <td>100.0</td>\n",
       "      <td>364.0</td>\n",
       "      <td>399.9</td>\n",
       "      <td>-7.6</td>\n",
       "      <td>-7.8</td>\n",
       "      <td>11.0</td>\n",
       "      <td>2.0</td>\n",
       "    </tr>\n",
       "    <tr>\n",
       "      <th>3</th>\n",
       "      <td>1</td>\n",
       "      <td>20180215211935</td>\n",
       "      <td>20180216051456</td>\n",
       "      <td>86867.6</td>\n",
       "      <td>28.8</td>\n",
       "      <td>NaN</td>\n",
       "      <td>362.9</td>\n",
       "      <td>399.9</td>\n",
       "      <td>-7.6</td>\n",
       "      <td>-7.6</td>\n",
       "      <td>8.0</td>\n",
       "      <td>3.0</td>\n",
       "    </tr>\n",
       "    <tr>\n",
       "      <th>4</th>\n",
       "      <td>2</td>\n",
       "      <td>20180525192134</td>\n",
       "      <td>20180526025112</td>\n",
       "      <td>67266.3</td>\n",
       "      <td>35.0</td>\n",
       "      <td>99.0</td>\n",
       "      <td>350.8</td>\n",
       "      <td>397.0</td>\n",
       "      <td>-9.4</td>\n",
       "      <td>-5.0</td>\n",
       "      <td>32.0</td>\n",
       "      <td>27.0</td>\n",
       "    </tr>\n",
       "  </tbody>\n",
       "</table>\n",
       "</div>"
      ],
      "text/plain": [
       "   vehicle_id  charge_start_time  charge_end_time  mileage  charge_start_soc  \\\n",
       "0           1     20171116161033   20171116170903  71710.6              44.0   \n",
       "1           1     20171210190533   20171210193743  75816.9              34.0   \n",
       "2           1     20180104213535   20180105042334  79867.3              39.2   \n",
       "3           1     20180215211935   20180216051456  86867.6              28.8   \n",
       "4           2     20180525192134   20180526025112  67266.3              35.0   \n",
       "\n",
       "   charge_end_soc  charge_start_U  charge_end_U  charge_start_I  charge_end_I  \\\n",
       "0            90.8           370.5         383.9           -29.8         -40.1   \n",
       "1            60.4           365.1         379.9           -25.9         -40.4   \n",
       "2           100.0           364.0         399.9            -7.6          -7.8   \n",
       "3             NaN           362.9         399.9            -7.6          -7.6   \n",
       "4            99.0           350.8         397.0            -9.4          -5.0   \n",
       "\n",
       "   charge_max_temp  charge_min_temp  \n",
       "0             21.0             13.0  \n",
       "1             14.0              9.0  \n",
       "2             11.0              2.0  \n",
       "3              8.0              3.0  \n",
       "4             32.0             27.0  "
      ]
     },
     "execution_count": 11,
     "metadata": {},
     "output_type": "execute_result"
    }
   ],
   "source": [
    "test = pd.read_csv('data/testA.csv')\n",
    "test.head()"
   ]
  },
  {
   "cell_type": "code",
   "execution_count": 12,
   "metadata": {},
   "outputs": [
    {
     "data": {
      "text/plain": [
       "vehicle_id           False\n",
       "charge_start_time    False\n",
       "charge_end_time      False\n",
       "mileage              False\n",
       "charge_start_soc     False\n",
       "charge_end_soc        True\n",
       "charge_start_U       False\n",
       "charge_end_U         False\n",
       "charge_start_I       False\n",
       "charge_end_I         False\n",
       "charge_max_temp      False\n",
       "charge_min_temp      False\n",
       "dtype: bool"
      ]
     },
     "execution_count": 12,
     "metadata": {},
     "output_type": "execute_result"
    }
   ],
   "source": [
    "# 找出缺失值的列\n",
    "test.isnull().any()"
   ]
  },
  {
   "cell_type": "code",
   "execution_count": 13,
   "metadata": {
    "collapsed": true
   },
   "outputs": [],
   "source": [
    "# 填充缺失值的列\n",
    "test['charge_end_soc'].fillna(test['charge_end_soc'].mean(), inplace=True)"
   ]
  },
  {
   "cell_type": "code",
   "execution_count": 14,
   "metadata": {
    "collapsed": true
   },
   "outputs": [],
   "source": [
    "# 两列相减\n",
    "test['time'] = test.apply(lambda row: row.charge_end_time - row.charge_start_time, axis=1)\n",
    "test['soc'] = test.apply(lambda row: row.charge_end_soc - row.charge_start_soc, axis=1)\n",
    "test['U'] = test.apply(lambda row: row.charge_end_U - row.charge_start_U, axis=1)\n",
    "test['I'] = test.apply(lambda row: row.charge_end_I - row.charge_start_I, axis=1)\n",
    "test['temp'] = test.apply(lambda row: row.charge_max_temp - row.charge_min_temp, axis=1)"
   ]
  },
  {
   "cell_type": "code",
   "execution_count": 15,
   "metadata": {},
   "outputs": [],
   "source": [
    "x = dict_vec.transform(test[selected_features].to_dict(orient='record'))\n",
    "y = model.predict(x)"
   ]
  },
  {
   "cell_type": "code",
   "execution_count": 16,
   "metadata": {},
   "outputs": [
    {
     "data": {
      "text/plain": [
       "27"
      ]
     },
     "execution_count": 16,
     "metadata": {},
     "output_type": "execute_result"
    }
   ],
   "source": [
    "ids = list(test['vehicle_id'])\n",
    "len(ids)"
   ]
  },
  {
   "cell_type": "code",
   "execution_count": 17,
   "metadata": {},
   "outputs": [],
   "source": [
    "with open('submit-A_张彬城_暨南大学_15521106350_20181011.csv', 'w') as f:\n",
    "    f.write('vehicle_id,charge_energy\\n')\n",
    "    for _id, _y in zip(ids, y):\n",
    "        line = '%d,%d\\n' % (_id, _y)\n",
    "        f.write(line)"
   ]
  }
 ],
 "metadata": {
  "anaconda-cloud": {},
  "kernelspec": {
   "display_name": "Python 3",
   "language": "python",
   "name": "python3"
  },
  "language_info": {
   "codemirror_mode": {
    "name": "ipython",
    "version": 3
   },
   "file_extension": ".py",
   "mimetype": "text/x-python",
   "name": "python",
   "nbconvert_exporter": "python",
   "pygments_lexer": "ipython3",
   "version": "3.6.5"
  }
 },
 "nbformat": 4,
 "nbformat_minor": 1
}
