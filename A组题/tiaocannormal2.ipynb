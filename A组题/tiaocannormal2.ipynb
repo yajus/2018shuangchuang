{
 "cells": [
  {
   "cell_type": "code",
   "execution_count": 2,
   "metadata": {},
   "outputs": [
    {
     "data": {
      "text/html": [
       "<div>\n",
       "<style scoped>\n",
       "    .dataframe tbody tr th:only-of-type {\n",
       "        vertical-align: middle;\n",
       "    }\n",
       "\n",
       "    .dataframe tbody tr th {\n",
       "        vertical-align: top;\n",
       "    }\n",
       "\n",
       "    .dataframe thead th {\n",
       "        text-align: right;\n",
       "    }\n",
       "</style>\n",
       "<table border=\"1\" class=\"dataframe\">\n",
       "  <thead>\n",
       "    <tr style=\"text-align: right;\">\n",
       "      <th></th>\n",
       "      <th>vehicle_id</th>\n",
       "      <th>charge_start_time</th>\n",
       "      <th>charge_end_time</th>\n",
       "      <th>mileage</th>\n",
       "      <th>charge_start_soc</th>\n",
       "      <th>charge_end_soc</th>\n",
       "      <th>charge_start_U</th>\n",
       "      <th>charge_end_U</th>\n",
       "      <th>charge_start_I</th>\n",
       "      <th>charge_end_I</th>\n",
       "      <th>charge_max_temp</th>\n",
       "      <th>charge_min_temp</th>\n",
       "      <th>charge_energy</th>\n",
       "      <th>Unnamed: 13</th>\n",
       "    </tr>\n",
       "  </thead>\n",
       "  <tbody>\n",
       "    <tr>\n",
       "      <th>0</th>\n",
       "      <td>1</td>\n",
       "      <td>20171103203711</td>\n",
       "      <td>20171104035411</td>\n",
       "      <td>82965.6</td>\n",
       "      <td>34.0</td>\n",
       "      <td>100.0</td>\n",
       "      <td>363.8</td>\n",
       "      <td>398.2</td>\n",
       "      <td>-7.7</td>\n",
       "      <td>-7.7</td>\n",
       "      <td>18.0</td>\n",
       "      <td>10.0</td>\n",
       "      <td>21.110</td>\n",
       "      <td>NaN</td>\n",
       "    </tr>\n",
       "    <tr>\n",
       "      <th>1</th>\n",
       "      <td>1</td>\n",
       "      <td>20171104152512</td>\n",
       "      <td>20171104163402</td>\n",
       "      <td>83082.5</td>\n",
       "      <td>43.2</td>\n",
       "      <td>99.2</td>\n",
       "      <td>369.3</td>\n",
       "      <td>389.8</td>\n",
       "      <td>-26.8</td>\n",
       "      <td>-40.4</td>\n",
       "      <td>23.0</td>\n",
       "      <td>14.0</td>\n",
       "      <td>17.705</td>\n",
       "      <td>NaN</td>\n",
       "    </tr>\n",
       "    <tr>\n",
       "      <th>2</th>\n",
       "      <td>1</td>\n",
       "      <td>20171104202445</td>\n",
       "      <td>20171105015835</td>\n",
       "      <td>83184.8</td>\n",
       "      <td>50.4</td>\n",
       "      <td>100.0</td>\n",
       "      <td>367.4</td>\n",
       "      <td>397.5</td>\n",
       "      <td>-7.6</td>\n",
       "      <td>-7.8</td>\n",
       "      <td>18.0</td>\n",
       "      <td>12.0</td>\n",
       "      <td>16.166</td>\n",
       "      <td>NaN</td>\n",
       "    </tr>\n",
       "    <tr>\n",
       "      <th>3</th>\n",
       "      <td>1</td>\n",
       "      <td>20171105135203</td>\n",
       "      <td>20171105151323</td>\n",
       "      <td>83339.0</td>\n",
       "      <td>23.2</td>\n",
       "      <td>88.8</td>\n",
       "      <td>361.0</td>\n",
       "      <td>382.0</td>\n",
       "      <td>-23.2</td>\n",
       "      <td>-40.5</td>\n",
       "      <td>27.0</td>\n",
       "      <td>18.0</td>\n",
       "      <td>20.595</td>\n",
       "      <td>NaN</td>\n",
       "    </tr>\n",
       "    <tr>\n",
       "      <th>4</th>\n",
       "      <td>1</td>\n",
       "      <td>20171105204456</td>\n",
       "      <td>20171106045655</td>\n",
       "      <td>83459.4</td>\n",
       "      <td>27.2</td>\n",
       "      <td>100.0</td>\n",
       "      <td>359.0</td>\n",
       "      <td>399.9</td>\n",
       "      <td>-7.7</td>\n",
       "      <td>-7.6</td>\n",
       "      <td>22.0</td>\n",
       "      <td>13.0</td>\n",
       "      <td>23.765</td>\n",
       "      <td>NaN</td>\n",
       "    </tr>\n",
       "  </tbody>\n",
       "</table>\n",
       "</div>"
      ],
      "text/plain": [
       "   vehicle_id  charge_start_time  charge_end_time  mileage  charge_start_soc  \\\n",
       "0           1     20171103203711   20171104035411  82965.6              34.0   \n",
       "1           1     20171104152512   20171104163402  83082.5              43.2   \n",
       "2           1     20171104202445   20171105015835  83184.8              50.4   \n",
       "3           1     20171105135203   20171105151323  83339.0              23.2   \n",
       "4           1     20171105204456   20171106045655  83459.4              27.2   \n",
       "\n",
       "   charge_end_soc  charge_start_U  charge_end_U  charge_start_I  charge_end_I  \\\n",
       "0           100.0           363.8         398.2            -7.7          -7.7   \n",
       "1            99.2           369.3         389.8           -26.8         -40.4   \n",
       "2           100.0           367.4         397.5            -7.6          -7.8   \n",
       "3            88.8           361.0         382.0           -23.2         -40.5   \n",
       "4           100.0           359.0         399.9            -7.7          -7.6   \n",
       "\n",
       "   charge_max_temp  charge_min_temp  charge_energy  Unnamed: 13  \n",
       "0             18.0             10.0         21.110          NaN  \n",
       "1             23.0             14.0         17.705          NaN  \n",
       "2             18.0             12.0         16.166          NaN  \n",
       "3             27.0             18.0         20.595          NaN  \n",
       "4             22.0             13.0         23.765          NaN  "
      ]
     },
     "execution_count": 2,
     "metadata": {},
     "output_type": "execute_result"
    }
   ],
   "source": [
    "import pandas as pd\n",
    "import numpy as np\n",
    "\n",
    "\"\"\"\n",
    "vehicle_id STRING 车辆唯一标志码\n",
    "charge_start_time INT 充电开始时间\n",
    "charge_end_time INT 充电结束时间\n",
    "mileage FLOAT 充电开始时刻车辆仪表里程（km）\n",
    "charge_start_soc INT 充电开始时刻动力电池 SOC\n",
    "charge_end_soc INT 充电结束时刻动力电池 SOC\n",
    "charge_start_U FLOAT 充电开始时刻动力电池总电压（V）\n",
    "charge_end_U FLOAT 充电结束时刻动力电池总电压（V）\n",
    "charge_start_I FLOAT 充电开始时刻动力电池总电流（A）\n",
    "charge_end_I FLOAT 充电结束时刻动力电池总电流（A）\n",
    "charge_max_temp FLOAT 充电过程中电池系统温度探针最大值（℃）\n",
    "charge_min_temp FLOAT 充电过程中电池系统温度探针最小值（℃）\n",
    "charge_energy FLOAT 此充电过程的充电能量（kWh）\n",
    "\"\"\"\n",
    "\n",
    "data = pd.read_csv('决赛数据/energy_train1029.csv')\n",
    "data[data == 0] = np.nan\n",
    "data = data.dropna(subset=['charge_energy'])\n",
    "data.head()"
   ]
  },
  {
   "cell_type": "code",
   "execution_count": 3,
   "metadata": {},
   "outputs": [
    {
     "data": {
      "text/plain": [
       "vehicle_id              0\n",
       "charge_start_time       0\n",
       "charge_end_time         0\n",
       "mileage                 0\n",
       "charge_start_soc       58\n",
       "charge_end_soc        477\n",
       "charge_start_U          0\n",
       "charge_end_U          316\n",
       "charge_start_I          0\n",
       "charge_end_I          473\n",
       "charge_max_temp        12\n",
       "charge_min_temp       838\n",
       "charge_energy           0\n",
       "Unnamed: 13          5168\n",
       "dtype: int64"
      ]
     },
     "execution_count": 3,
     "metadata": {},
     "output_type": "execute_result"
    }
   ],
   "source": [
    "# 找出缺失值的列\n",
    "data.isnull().sum()"
   ]
  },
  {
   "cell_type": "code",
   "execution_count": 4,
   "metadata": {},
   "outputs": [],
   "source": [
    "# 计算平均值\n",
    "charge_start_soc_mean = data.groupby(['vehicle_id']).charge_start_soc.mean()\n",
    "charge_end_soc_mean = data.groupby(['vehicle_id']).charge_end_soc.mean()\n",
    "charge_end_U_mean = data.groupby(['vehicle_id']).charge_end_U.mean()\n",
    "charge_end_I_mean = data.groupby(['vehicle_id']).charge_end_I.mean()\n",
    "charge_max_temp_mean = data.groupby(['vehicle_id']).charge_max_temp.mean()\n",
    "charge_min_temp_mean = data.groupby(['vehicle_id']).charge_min_temp.mean()\n",
    "\n",
    "# 设置索引\n",
    "data.set_index(['vehicle_id'], inplace=True)\n",
    "\n",
    "# 填充缺失值\n",
    "data.charge_start_soc.fillna(charge_start_soc_mean, inplace=True)\n",
    "data.charge_end_soc.fillna(charge_end_soc_mean, inplace=True)\n",
    "data.charge_end_U.fillna(charge_end_U_mean, inplace=True)\n",
    "data.charge_end_I.fillna(charge_end_I_mean, inplace=True)\n",
    "data.charge_max_temp.fillna(charge_max_temp_mean, inplace=True)\n",
    "data.charge_min_temp.fillna(charge_min_temp_mean, inplace=True)\n",
    "\n",
    "# 重置索引\n",
    "data.reset_index(inplace=True)"
   ]
  },
  {
   "cell_type": "code",
   "execution_count": 5,
   "metadata": {},
   "outputs": [],
   "source": [
    "# 两列相减\n",
    "data['time'] = data.apply(lambda row: row.charge_end_time - row.charge_start_time, axis=1)\n",
    "data['soc'] = data.apply(lambda row: row.charge_end_soc - row.charge_start_soc, axis=1)\n",
    "data['U'] = data.apply(lambda row: row.charge_end_U - row.charge_start_U, axis=1)\n",
    "data['I'] = data.apply(lambda row: row.charge_end_I - row.charge_start_I, axis=1)\n",
    "data['temp'] = data.apply(lambda row: row.charge_max_temp - row.charge_min_temp, axis=1)"
   ]
  },
  {
   "cell_type": "code",
   "execution_count": 6,
   "metadata": {},
   "outputs": [
    {
     "name": "stdout",
     "output_type": "stream",
     "text": [
      "3876 1292\n"
     ]
    }
   ],
   "source": [
    "selected_features = ['vehicle_id', 'time', 'mileage', 'soc', 'U', 'I', 'temp']\n",
    "\n",
    "# 划分数据集\n",
    "from sklearn.model_selection import train_test_split\n",
    "\n",
    "X_train, X_test, y_train, y_test = train_test_split(data[selected_features], data['charge_energy'], random_state=0)\n",
    "\n",
    "print(len(X_train), len(X_test))"
   ]
  },
  {
   "cell_type": "code",
   "execution_count": 7,
   "metadata": {},
   "outputs": [],
   "source": [
    "# 特征向量化\n",
    "from sklearn.feature_extraction import DictVectorizer\n",
    "\n",
    "dict_vec = DictVectorizer(sparse=False)\n",
    "X_train = dict_vec.fit_transform(X_train.to_dict(orient='record'))\n",
    "X_test = dict_vec.transform(X_test.to_dict(orient='record'))"
   ]
  },
  {
   "cell_type": "code",
   "execution_count": 8,
   "metadata": {},
   "outputs": [
    {
     "name": "stderr",
     "output_type": "stream",
     "text": [
      "/Library/Frameworks/Python.framework/Versions/3.6/lib/python3.6/site-packages/sklearn/ensemble/weight_boosting.py:29: DeprecationWarning: numpy.core.umath_tests is an internal NumPy module and should not be imported. It will be removed in a future NumPy release.\n",
      "  from numpy.core.umath_tests import inner1d\n",
      "/Library/Frameworks/Python.framework/Versions/3.6/lib/python3.6/site-packages/sklearn/cross_validation.py:41: DeprecationWarning: This module was deprecated in version 0.18 in favor of the model_selection module into which all the refactored classes and functions are moved. Also note that the interface of the new CV iterators are different from that of this module. This module will be removed in 0.20.\n",
      "  \"This module will be removed in 0.20.\", DeprecationWarning)\n",
      "/Library/Frameworks/Python.framework/Versions/3.6/lib/python3.6/site-packages/sklearn/grid_search.py:42: DeprecationWarning: This module was deprecated in version 0.18 in favor of the model_selection module into which all the refactored classes and functions are moved. This module will be removed in 0.20.\n",
      "  DeprecationWarning)\n"
     ]
    },
    {
     "data": {
      "text/plain": [
       "([mean: 0.92146, std: 0.07688, params: {'n_estimators': 100},\n",
       "  mean: 0.91671, std: 0.07754, params: {'n_estimators': 200},\n",
       "  mean: 0.92348, std: 0.07650, params: {'n_estimators': 300},\n",
       "  mean: 0.92476, std: 0.07600, params: {'n_estimators': 400},\n",
       "  mean: 0.92611, std: 0.07546, params: {'n_estimators': 500},\n",
       "  mean: 0.92166, std: 0.07701, params: {'n_estimators': 600},\n",
       "  mean: 0.92407, std: 0.07601, params: {'n_estimators': 700},\n",
       "  mean: 0.92319, std: 0.07645, params: {'n_estimators': 800},\n",
       "  mean: 0.92383, std: 0.07691, params: {'n_estimators': 900},\n",
       "  mean: 0.92299, std: 0.07623, params: {'n_estimators': 1000}],\n",
       " {'n_estimators': 500},\n",
       " 0.9261062691246597)"
      ]
     },
     "execution_count": 8,
     "metadata": {},
     "output_type": "execute_result"
    }
   ],
   "source": [
    "# 网格搜索 自动调参\n",
    "from sklearn.ensemble import RandomForestRegressor\n",
    "from sklearn.grid_search import GridSearchCV\n",
    "\n",
    "params = {'n_estimators':list(range(100,1001,100))}\n",
    "\n",
    "grid = GridSearchCV(RandomForestRegressor(), param_grid=params, cv=5)\n",
    "grid.fit(X_train, y_train)\n",
    "\n",
    "grid.grid_scores_, grid.best_params_, grid.best_score_"
   ]
  },
  {
   "cell_type": "code",
   "execution_count": 9,
   "metadata": {},
   "outputs": [
    {
     "data": {
      "text/plain": [
       "59.79328828044302"
      ]
     },
     "execution_count": 9,
     "metadata": {},
     "output_type": "execute_result"
    }
   ],
   "source": [
    "# 预测\n",
    "model = RandomForestRegressor(n_estimators= 100)\n",
    "model.fit(X_train, y_train)\n",
    "y_pred = model.predict(X_test)\n",
    "\n",
    "# 评估\n",
    "e = 0\n",
    "for a, r in zip(y_test, y_pred):\n",
    "    e += ((r- a) / a) ** 2\n",
    "\n",
    "e ** 0.5"
   ]
  },
  {
   "cell_type": "markdown",
   "metadata": {},
   "source": [
    "![title](0.png)"
   ]
  },
  {
   "cell_type": "code",
   "execution_count": 10,
   "metadata": {},
   "outputs": [
    {
     "data": {
      "text/html": [
       "<div>\n",
       "<style scoped>\n",
       "    .dataframe tbody tr th:only-of-type {\n",
       "        vertical-align: middle;\n",
       "    }\n",
       "\n",
       "    .dataframe tbody tr th {\n",
       "        vertical-align: top;\n",
       "    }\n",
       "\n",
       "    .dataframe thead th {\n",
       "        text-align: right;\n",
       "    }\n",
       "</style>\n",
       "<table border=\"1\" class=\"dataframe\">\n",
       "  <thead>\n",
       "    <tr style=\"text-align: right;\">\n",
       "      <th></th>\n",
       "      <th>vehicle_id</th>\n",
       "      <th>charge_start_time</th>\n",
       "      <th>charge_end_time</th>\n",
       "      <th>mileage</th>\n",
       "      <th>charge_start_soc</th>\n",
       "      <th>charge_end_soc</th>\n",
       "      <th>charge_start_U</th>\n",
       "      <th>charge_end_U</th>\n",
       "      <th>charge_start_I</th>\n",
       "      <th>charge_end_I</th>\n",
       "      <th>charge_max_temp</th>\n",
       "      <th>charge_min_temp</th>\n",
       "    </tr>\n",
       "  </thead>\n",
       "  <tbody>\n",
       "    <tr>\n",
       "      <th>0</th>\n",
       "      <td>1</td>\n",
       "      <td>20171101133105</td>\n",
       "      <td>20171101142515</td>\n",
       "      <td>82418.1</td>\n",
       "      <td>44.4</td>\n",
       "      <td>88.4</td>\n",
       "      <td>370.9</td>\n",
       "      <td>382.0</td>\n",
       "      <td>-39.7</td>\n",
       "      <td>-40.7</td>\n",
       "      <td>25</td>\n",
       "      <td>18</td>\n",
       "    </tr>\n",
       "    <tr>\n",
       "      <th>1</th>\n",
       "      <td>1</td>\n",
       "      <td>20171101203400</td>\n",
       "      <td>20171102043250</td>\n",
       "      <td>82540.5</td>\n",
       "      <td>29.2</td>\n",
       "      <td>100.0</td>\n",
       "      <td>360.5</td>\n",
       "      <td>399.6</td>\n",
       "      <td>-7.7</td>\n",
       "      <td>-7.8</td>\n",
       "      <td>22</td>\n",
       "      <td>15</td>\n",
       "    </tr>\n",
       "    <tr>\n",
       "      <th>2</th>\n",
       "      <td>1</td>\n",
       "      <td>20171102141440</td>\n",
       "      <td>20171102152900</td>\n",
       "      <td>82669.1</td>\n",
       "      <td>39.2</td>\n",
       "      <td>99.2</td>\n",
       "      <td>368.8</td>\n",
       "      <td>390.0</td>\n",
       "      <td>-29.8</td>\n",
       "      <td>-40.4</td>\n",
       "      <td>28</td>\n",
       "      <td>19</td>\n",
       "    </tr>\n",
       "    <tr>\n",
       "      <th>3</th>\n",
       "      <td>1</td>\n",
       "      <td>20171102203417</td>\n",
       "      <td>20171103022936</td>\n",
       "      <td>82779.2</td>\n",
       "      <td>48.0</td>\n",
       "      <td>100.0</td>\n",
       "      <td>367.4</td>\n",
       "      <td>396.7</td>\n",
       "      <td>-7.7</td>\n",
       "      <td>-7.8</td>\n",
       "      <td>24</td>\n",
       "      <td>15</td>\n",
       "    </tr>\n",
       "    <tr>\n",
       "      <th>4</th>\n",
       "      <td>1</td>\n",
       "      <td>20171103171340</td>\n",
       "      <td>20171103174250</td>\n",
       "      <td>82883.3</td>\n",
       "      <td>51.2</td>\n",
       "      <td>74.4</td>\n",
       "      <td>368.9</td>\n",
       "      <td>381.4</td>\n",
       "      <td>-31.6</td>\n",
       "      <td>-40.3</td>\n",
       "      <td>19</td>\n",
       "      <td>14</td>\n",
       "    </tr>\n",
       "  </tbody>\n",
       "</table>\n",
       "</div>"
      ],
      "text/plain": [
       "   vehicle_id  charge_start_time  charge_end_time  mileage  charge_start_soc  \\\n",
       "0           1     20171101133105   20171101142515  82418.1              44.4   \n",
       "1           1     20171101203400   20171102043250  82540.5              29.2   \n",
       "2           1     20171102141440   20171102152900  82669.1              39.2   \n",
       "3           1     20171102203417   20171103022936  82779.2              48.0   \n",
       "4           1     20171103171340   20171103174250  82883.3              51.2   \n",
       "\n",
       "   charge_end_soc  charge_start_U  charge_end_U  charge_start_I  charge_end_I  \\\n",
       "0            88.4           370.9         382.0           -39.7         -40.7   \n",
       "1           100.0           360.5         399.6            -7.7          -7.8   \n",
       "2            99.2           368.8         390.0           -29.8         -40.4   \n",
       "3           100.0           367.4         396.7            -7.7          -7.8   \n",
       "4            74.4           368.9         381.4           -31.6         -40.3   \n",
       "\n",
       "   charge_max_temp  charge_min_temp  \n",
       "0               25               18  \n",
       "1               22               15  \n",
       "2               28               19  \n",
       "3               24               15  \n",
       "4               19               14  "
      ]
     },
     "execution_count": 10,
     "metadata": {},
     "output_type": "execute_result"
    }
   ],
   "source": [
    "test = pd.read_csv('决赛数据/energy_test1029.csv')\n",
    "test.head()"
   ]
  },
  {
   "cell_type": "code",
   "execution_count": 11,
   "metadata": {},
   "outputs": [
    {
     "data": {
      "text/plain": [
       "vehicle_id           False\n",
       "charge_start_time    False\n",
       "charge_end_time      False\n",
       "mileage              False\n",
       "charge_start_soc     False\n",
       "charge_end_soc        True\n",
       "charge_start_U       False\n",
       "charge_end_U         False\n",
       "charge_start_I       False\n",
       "charge_end_I         False\n",
       "charge_max_temp      False\n",
       "charge_min_temp      False\n",
       "dtype: bool"
      ]
     },
     "execution_count": 11,
     "metadata": {},
     "output_type": "execute_result"
    }
   ],
   "source": [
    "# 找出缺失值的列\n",
    "test.isnull().any()"
   ]
  },
  {
   "cell_type": "code",
   "execution_count": 12,
   "metadata": {},
   "outputs": [],
   "source": [
    "# 填充缺失值的列\n",
    "test['charge_end_soc'].fillna(test['charge_end_soc'].mean(), inplace=True)"
   ]
  },
  {
   "cell_type": "code",
   "execution_count": 13,
   "metadata": {},
   "outputs": [],
   "source": [
    "# 两列相减\n",
    "test['time'] = test.apply(lambda row: row.charge_end_time - row.charge_start_time, axis=1)\n",
    "test['soc'] = test.apply(lambda row: row.charge_end_soc - row.charge_start_soc, axis=1)\n",
    "test['U'] = test.apply(lambda row: row.charge_end_U - row.charge_start_U, axis=1)\n",
    "test['I'] = test.apply(lambda row: row.charge_end_I - row.charge_start_I, axis=1)\n",
    "test['temp'] = test.apply(lambda row: row.charge_max_temp - row.charge_min_temp, axis=1)"
   ]
  },
  {
   "cell_type": "code",
   "execution_count": 14,
   "metadata": {},
   "outputs": [],
   "source": [
    "x = dict_vec.transform(test[selected_features].to_dict(orient='record'))\n",
    "y = model.predict(x)"
   ]
  },
  {
   "cell_type": "code",
   "execution_count": 15,
   "metadata": {},
   "outputs": [
    {
     "data": {
      "text/plain": [
       "array([ 13.23725,  23.01508,  19.08019,  16.84651,   7.54113,  13.10819,\n",
       "        11.43081,  21.36827,  23.85305,  20.16095,  21.65209,  11.39809,\n",
       "        10.27959,  20.16909,  20.01976,  16.49225,  17.26412,  21.88967,\n",
       "         8.13798,  17.62306,  21.07629,  20.06152,  21.00521,  19.44465,\n",
       "        24.85693,  20.24069,  18.44069,  23.2727 ,  22.25424,  20.79716,\n",
       "        12.93894,  16.52132,  19.94527,  22.09112,  15.15311,   7.29963,\n",
       "        24.06384,  19.32535,   5.89041,  20.12829,  19.65657,  19.55936,\n",
       "        15.87869,  17.92019,  20.12377,  19.9949 ,  20.59495,  18.80078,\n",
       "        20.09635,  19.91891,  20.46094,   8.54243,  20.11688,  20.34509,\n",
       "        20.70745,  18.95638,  12.45312,  20.52026,   4.11064,  16.71903,\n",
       "        93.55716,   5.80671,  31.97594,  17.7691 ,  23.88085,   3.74518,\n",
       "        24.83261,   8.3827 ,  10.46495,  21.74508,  18.19967,  12.39853,\n",
       "        10.12443,  28.85729,  14.04189,  31.85465,  23.13443,  26.30811,\n",
       "        23.08835,  23.79413,  27.96762,  27.1884 ,  29.07773,  10.33716,\n",
       "        22.12433,  33.42654,  11.95611,  22.73528,  31.96673,  14.19867,\n",
       "        31.74347,  27.69934,  17.28889,  29.52128,  30.14637,   5.76227,\n",
       "        27.64133,  22.32371,  28.4542 ,  13.46435,  21.11444,  17.88442,\n",
       "        29.95864,  20.93763,  23.51155,  18.50368,  17.45307,  20.89866,\n",
       "        31.61396,  23.5362 ,  29.13904,  29.01659,  15.32861,  15.95716,\n",
       "        17.97857,  15.33715,   8.53285,  24.64935,  18.46741,  25.30604,\n",
       "         7.91791,   7.54844,   1.72142,   8.03316,  31.50702,   8.12809,\n",
       "        25.79642,  16.50784,  23.65802,   7.4911 ,  24.76664,  20.38366,\n",
       "        17.06041,  22.23921,  23.1018 ,  20.71958,  14.44781,  34.86407,\n",
       "        15.71578,  29.48595,  12.13173,  21.33547,  22.15675,   5.98903,\n",
       "        16.5321 ,  13.83698,  16.89271,  13.03768,  15.82972,   7.16493,\n",
       "        22.86007,  17.52311,  12.15524,  19.20065,  16.0188 ,   4.50103,\n",
       "        20.32307,  11.48406,   9.41145,   8.38897,  12.80761,   6.21203,\n",
       "         6.9201 ,  10.01848,   4.89833,   5.89329,   5.97279,   5.99266,\n",
       "         3.77019,   6.33241,   7.17643,  12.79725,   6.58907,  12.32542,\n",
       "         8.87026,  15.09261,   8.62838,  16.375  ,  15.59276,  17.28481,\n",
       "        10.21407,  19.41949,  17.45746,  14.59518,   8.94447,   7.55166,\n",
       "        12.85412,  19.01294,   9.96308,  23.42282,  20.51412,  23.83354,\n",
       "         7.9077 ,   9.09127,  14.43604,  12.23559,   8.5355 ,  14.04707,\n",
       "         6.85995,  11.80839,  84.60575,  41.0365 ,  63.77426,  31.64097,\n",
       "        78.90487,  49.53937,  91.65929,  14.95488,  93.29341,  55.52357,\n",
       "       100.2833 ,  62.4741 ,  54.29669,  20.14206,  66.84203,  46.40821,\n",
       "        63.91126,  25.48358,  50.54777,  50.60405])"
      ]
     },
     "execution_count": 15,
     "metadata": {},
     "output_type": "execute_result"
    }
   ],
   "source": [
    "ids = list(test['vehicle_id'])\n",
    "len(ids)\n",
    "y"
   ]
  },
  {
   "cell_type": "code",
   "execution_count": 16,
   "metadata": {},
   "outputs": [],
   "source": [
    "with open(' energy-submit_张彬城_暨南大学_15521106350_20181108.csv', 'w') as f:\n",
    "    f.write('vehicle_id,charge_energy\\n')\n",
    "    for _id, _y in zip(ids, y):\n",
    "        line = '%d,%f\\n' % (_id, _y)\n",
    "        f.write(line)"
   ]
  },
  {
   "cell_type": "code",
   "execution_count": null,
   "metadata": {},
   "outputs": [],
   "source": []
  }
 ],
 "metadata": {
  "anaconda-cloud": {},
  "kernelspec": {
   "display_name": "Python 3",
   "language": "python",
   "name": "python3"
  },
  "language_info": {
   "codemirror_mode": {
    "name": "ipython",
    "version": 3
   },
   "file_extension": ".py",
   "mimetype": "text/x-python",
   "name": "python",
   "nbconvert_exporter": "python",
   "pygments_lexer": "ipython3",
   "version": "3.6.5"
  }
 },
 "nbformat": 4,
 "nbformat_minor": 1
}
