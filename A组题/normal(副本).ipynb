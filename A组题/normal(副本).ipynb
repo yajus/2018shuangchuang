{
 "cells": [
  {
   "cell_type": "code",
   "execution_count": 1,
   "metadata": {},
   "outputs": [
    {
     "data": {
      "text/html": [
       "<div>\n",
       "<table border=\"1\" class=\"dataframe\">\n",
       "  <thead>\n",
       "    <tr style=\"text-align: right;\">\n",
       "      <th></th>\n",
       "      <th>Unnamed: 0</th>\n",
       "      <th>vehicle_id</th>\n",
       "      <th>charge_start_time</th>\n",
       "      <th>charge_end_time</th>\n",
       "      <th>mileage</th>\n",
       "      <th>charge_start_soc</th>\n",
       "      <th>charge_end_soc</th>\n",
       "      <th>charge_start_U</th>\n",
       "      <th>charge_end_U</th>\n",
       "      <th>charge_start_I</th>\n",
       "      <th>charge_end_I</th>\n",
       "      <th>charge_max_temp</th>\n",
       "      <th>charge_min_temp</th>\n",
       "      <th>charge_energy</th>\n",
       "    </tr>\n",
       "  </thead>\n",
       "  <tbody>\n",
       "    <tr>\n",
       "      <th>0</th>\n",
       "      <td>305</td>\n",
       "      <td>2</td>\n",
       "      <td>20180527121119</td>\n",
       "      <td>20180527130020</td>\n",
       "      <td>67716.9</td>\n",
       "      <td>52.0</td>\n",
       "      <td>91.0</td>\n",
       "      <td>362.4</td>\n",
       "      <td>396.7</td>\n",
       "      <td>-33.5</td>\n",
       "      <td>-17.0</td>\n",
       "      <td>33.0</td>\n",
       "      <td>24.0</td>\n",
       "      <td>15.182</td>\n",
       "    </tr>\n",
       "    <tr>\n",
       "      <th>1</th>\n",
       "      <td>1448</td>\n",
       "      <td>4</td>\n",
       "      <td>20180306031848</td>\n",
       "      <td>20180306031858</td>\n",
       "      <td>93773.7</td>\n",
       "      <td>100.0</td>\n",
       "      <td>100.0</td>\n",
       "      <td>550.1</td>\n",
       "      <td>549.8</td>\n",
       "      <td>-4.0</td>\n",
       "      <td>-4.0</td>\n",
       "      <td>35.0</td>\n",
       "      <td>29.0</td>\n",
       "      <td>0.006</td>\n",
       "    </tr>\n",
       "    <tr>\n",
       "      <th>2</th>\n",
       "      <td>1313</td>\n",
       "      <td>4</td>\n",
       "      <td>20180130142926</td>\n",
       "      <td>20180130151346</td>\n",
       "      <td>86975.4</td>\n",
       "      <td>50.0</td>\n",
       "      <td>NaN</td>\n",
       "      <td>531.7</td>\n",
       "      <td>NaN</td>\n",
       "      <td>-20.0</td>\n",
       "      <td>NaN</td>\n",
       "      <td>29.0</td>\n",
       "      <td>NaN</td>\n",
       "      <td>34.464</td>\n",
       "    </tr>\n",
       "    <tr>\n",
       "      <th>3</th>\n",
       "      <td>1641</td>\n",
       "      <td>4</td>\n",
       "      <td>20180407093409</td>\n",
       "      <td>20180407093419</td>\n",
       "      <td>101538.2</td>\n",
       "      <td>100.0</td>\n",
       "      <td>100.0</td>\n",
       "      <td>551.5</td>\n",
       "      <td>551.0</td>\n",
       "      <td>-2.0</td>\n",
       "      <td>-1.0</td>\n",
       "      <td>28.0</td>\n",
       "      <td>24.0</td>\n",
       "      <td>0.002</td>\n",
       "    </tr>\n",
       "    <tr>\n",
       "      <th>4</th>\n",
       "      <td>435</td>\n",
       "      <td>3</td>\n",
       "      <td>20171202184133</td>\n",
       "      <td>20171202191313</td>\n",
       "      <td>142198.0</td>\n",
       "      <td>5.2</td>\n",
       "      <td>23.2</td>\n",
       "      <td>331.8</td>\n",
       "      <td>361.1</td>\n",
       "      <td>-84.8</td>\n",
       "      <td>-26.0</td>\n",
       "      <td>18.0</td>\n",
       "      <td>8.0</td>\n",
       "      <td>14.134</td>\n",
       "    </tr>\n",
       "  </tbody>\n",
       "</table>\n",
       "</div>"
      ],
      "text/plain": [
       "   Unnamed: 0  vehicle_id  charge_start_time  charge_end_time   mileage  \\\n",
       "0         305           2     20180527121119   20180527130020   67716.9   \n",
       "1        1448           4     20180306031848   20180306031858   93773.7   \n",
       "2        1313           4     20180130142926   20180130151346   86975.4   \n",
       "3        1641           4     20180407093409   20180407093419  101538.2   \n",
       "4         435           3     20171202184133   20171202191313  142198.0   \n",
       "\n",
       "   charge_start_soc  charge_end_soc  charge_start_U  charge_end_U  \\\n",
       "0              52.0            91.0           362.4         396.7   \n",
       "1             100.0           100.0           550.1         549.8   \n",
       "2              50.0             NaN           531.7           NaN   \n",
       "3             100.0           100.0           551.5         551.0   \n",
       "4               5.2            23.2           331.8         361.1   \n",
       "\n",
       "   charge_start_I  charge_end_I  charge_max_temp  charge_min_temp  \\\n",
       "0           -33.5         -17.0             33.0             24.0   \n",
       "1            -4.0          -4.0             35.0             29.0   \n",
       "2           -20.0           NaN             29.0              NaN   \n",
       "3            -2.0          -1.0             28.0             24.0   \n",
       "4           -84.8         -26.0             18.0              8.0   \n",
       "\n",
       "   charge_energy  \n",
       "0         15.182  \n",
       "1          0.006  \n",
       "2         34.464  \n",
       "3          0.002  \n",
       "4         14.134  "
      ]
     },
     "execution_count": 1,
     "metadata": {},
     "output_type": "execute_result"
    }
   ],
   "source": [
    "import pandas as pd\n",
    "import numpy as np\n",
    "\n",
    "\"\"\"\n",
    "vehicle_id STRING 车辆唯一标志码\n",
    "charge_start_time INT 充电开始时间\n",
    "charge_end_time INT 充电结束时间\n",
    "mileage FLOAT 充电开始时刻车辆仪表里程（km）\n",
    "charge_start_soc INT 充电开始时刻动力电池 SOC\n",
    "charge_end_soc INT 充电结束时刻动力电池 SOC\n",
    "charge_start_U FLOAT 充电开始时刻动力电池总电压（V）\n",
    "charge_end_U FLOAT 充电结束时刻动力电池总电压（V）\n",
    "charge_start_I FLOAT 充电开始时刻动力电池总电流（A）\n",
    "charge_end_I FLOAT 充电结束时刻动力电池总电流（A）\n",
    "charge_max_temp FLOAT 充电过程中电池系统温度探针最大值（℃）\n",
    "charge_min_temp FLOAT 充电过程中电池系统温度探针最小值（℃）\n",
    "charge_energy FLOAT 此充电过程的充电能量（kWh）\n",
    "\"\"\"\n",
    "\n",
    "data = pd.read_csv('data/train.csv')\n",
    "data.head()"
   ]
  },
  {
   "cell_type": "code",
   "execution_count": 2,
   "metadata": {},
   "outputs": [
    {
     "data": {
      "text/plain": [
       "Unnamed: 0             0\n",
       "vehicle_id             0\n",
       "charge_start_time      0\n",
       "charge_end_time        0\n",
       "mileage                0\n",
       "charge_start_soc      27\n",
       "charge_end_soc       198\n",
       "charge_start_U         0\n",
       "charge_end_U         137\n",
       "charge_start_I         0\n",
       "charge_end_I         317\n",
       "charge_max_temp        7\n",
       "charge_min_temp      448\n",
       "charge_energy          0\n",
       "dtype: int64"
      ]
     },
     "execution_count": 2,
     "metadata": {},
     "output_type": "execute_result"
    }
   ],
   "source": [
    "# 找出缺失值的列\n",
    "data.isnull().sum()"
   ]
  },
  {
   "cell_type": "code",
   "execution_count": 3,
   "metadata": {},
   "outputs": [],
   "source": [
    "# 计算中位数\n",
    "charge_start_soc_mean = data.groupby(['vehicle_id']).charge_start_soc.mean()\n",
    "charge_end_soc_mean = data.groupby(['vehicle_id']).charge_end_soc.mean()\n",
    "charge_end_U_mean = data.groupby(['vehicle_id']).charge_end_U.mean()\n",
    "charge_end_I_mean = data.groupby(['vehicle_id']).charge_end_I.mean()\n",
    "charge_max_temp_mean = data.groupby(['vehicle_id']).charge_max_temp.mean()\n",
    "charge_min_temp_mean = data.groupby(['vehicle_id']).charge_min_temp.mean()\n",
    "\n",
    "# 设置索引\n",
    "data.set_index(['vehicle_id'], inplace=True)\n",
    "\n",
    "# 填充缺失值\n",
    "data.charge_start_soc.fillna(charge_start_soc_mean, inplace=True)\n",
    "data.charge_end_soc.fillna(charge_end_soc_mean, inplace=True)\n",
    "data.charge_end_U.fillna(charge_end_U_mean, inplace=True)\n",
    "data.charge_end_I.fillna(charge_end_I_mean, inplace=True)\n",
    "data.charge_max_temp.fillna(charge_max_temp_mean, inplace=True)\n",
    "data.charge_min_temp.fillna(charge_min_temp_mean, inplace=True)\n",
    "\n",
    "# 重置索引\n",
    "data.reset_index(inplace=True)"
   ]
  },
  {
   "cell_type": "code",
   "execution_count": 4,
   "metadata": {},
   "outputs": [
    {
     "name": "stdout",
     "output_type": "stream",
     "text": [
      "2765 1935 830\n"
     ]
    }
   ],
   "source": [
    "num = len(data)\n",
    "\n",
    "train = data[:int(num*0.7)]\n",
    "test = data[int(num*0.7):]\n",
    "print(num, len(train), len(test))"
   ]
  },
  {
   "cell_type": "code",
   "execution_count": 5,
   "metadata": {},
   "outputs": [],
   "source": [
    "selected_features = ['vehicle_id', \n",
    "                     'charge_start_time', 'charge_end_time',\n",
    "                     'mileage',\n",
    "                     'charge_start_soc', 'charge_end_soc',\n",
    "                     'charge_start_U','charge_end_U',\n",
    "                     'charge_start_I', 'charge_end_I',\n",
    "                     'charge_max_temp', 'charge_min_temp']\n",
    "\n",
    "X_train = train[selected_features]\n",
    "X_test = test[selected_features]\n",
    "y_train = train['charge_energy']\n",
    "y_test = test['charge_energy']"
   ]
  },
  {
   "cell_type": "code",
   "execution_count": 6,
   "metadata": {},
   "outputs": [],
   "source": [
    "# 特征向量化\n",
    "from sklearn.feature_extraction import DictVectorizer\n",
    "dict_vec = DictVectorizer(sparse=False)\n",
    "\n",
    "X_train = dict_vec.fit_transform(X_train.to_dict(orient='record'))\n",
    "X_test = dict_vec.transform(X_test.to_dict(orient='record'))"
   ]
  },
  {
   "cell_type": "code",
   "execution_count": 7,
   "metadata": {},
   "outputs": [
    {
     "data": {
      "text/plain": [
       "345.26257690723389"
      ]
     },
     "execution_count": 7,
     "metadata": {},
     "output_type": "execute_result"
    }
   ],
   "source": [
    "# 预测\n",
    "while(true):\n",
    "    \n",
    "    from sklearn.ensemble import ExtraTreesRegressor\n",
    "    model = ExtraTreesRegressor() # 极端随机森林回归模型\n",
    "\n",
    "    model.fit(X_train, y_train)\n",
    "    y_pred = model.predict(X_test)\n",
    "\n",
    "# 评估\n",
    "    e = 0\n",
    "    for a, r in zip(y_test, y_pred):\n",
    "        e += ((r- a) / a) ** 2\n",
    "\n",
    "    e ** 0.5"
   ]
  },
  {
   "cell_type": "markdown",
   "metadata": {},
   "source": [
    "![title](0.png)"
   ]
  },
  {
   "cell_type": "code",
   "execution_count": 8,
   "metadata": {},
   "outputs": [
    {
     "data": {
      "text/html": [
       "<div>\n",
       "<table border=\"1\" class=\"dataframe\">\n",
       "  <thead>\n",
       "    <tr style=\"text-align: right;\">\n",
       "      <th></th>\n",
       "      <th>vehicle_id</th>\n",
       "      <th>charge_start_time</th>\n",
       "      <th>charge_end_time</th>\n",
       "      <th>mileage</th>\n",
       "      <th>charge_start_soc</th>\n",
       "      <th>charge_end_soc</th>\n",
       "      <th>charge_start_U</th>\n",
       "      <th>charge_end_U</th>\n",
       "      <th>charge_start_I</th>\n",
       "      <th>charge_end_I</th>\n",
       "      <th>charge_max_temp</th>\n",
       "      <th>charge_min_temp</th>\n",
       "    </tr>\n",
       "  </thead>\n",
       "  <tbody>\n",
       "    <tr>\n",
       "      <th>0</th>\n",
       "      <td>1</td>\n",
       "      <td>20171116161033</td>\n",
       "      <td>20171116170903</td>\n",
       "      <td>71710.6</td>\n",
       "      <td>44.0</td>\n",
       "      <td>90.8</td>\n",
       "      <td>370.5</td>\n",
       "      <td>383.9</td>\n",
       "      <td>-29.8</td>\n",
       "      <td>-40.1</td>\n",
       "      <td>21.0</td>\n",
       "      <td>13.0</td>\n",
       "    </tr>\n",
       "    <tr>\n",
       "      <th>1</th>\n",
       "      <td>1</td>\n",
       "      <td>20171210190533</td>\n",
       "      <td>20171210193743</td>\n",
       "      <td>75816.9</td>\n",
       "      <td>34.0</td>\n",
       "      <td>60.4</td>\n",
       "      <td>365.1</td>\n",
       "      <td>379.9</td>\n",
       "      <td>-25.9</td>\n",
       "      <td>-40.4</td>\n",
       "      <td>14.0</td>\n",
       "      <td>9.0</td>\n",
       "    </tr>\n",
       "    <tr>\n",
       "      <th>2</th>\n",
       "      <td>1</td>\n",
       "      <td>20180104213535</td>\n",
       "      <td>20180105042334</td>\n",
       "      <td>79867.3</td>\n",
       "      <td>39.2</td>\n",
       "      <td>100.0</td>\n",
       "      <td>364.0</td>\n",
       "      <td>399.9</td>\n",
       "      <td>-7.6</td>\n",
       "      <td>-7.8</td>\n",
       "      <td>11.0</td>\n",
       "      <td>2.0</td>\n",
       "    </tr>\n",
       "    <tr>\n",
       "      <th>3</th>\n",
       "      <td>1</td>\n",
       "      <td>20180215211935</td>\n",
       "      <td>20180216051456</td>\n",
       "      <td>86867.6</td>\n",
       "      <td>28.8</td>\n",
       "      <td>NaN</td>\n",
       "      <td>362.9</td>\n",
       "      <td>399.9</td>\n",
       "      <td>-7.6</td>\n",
       "      <td>-7.6</td>\n",
       "      <td>8.0</td>\n",
       "      <td>3.0</td>\n",
       "    </tr>\n",
       "    <tr>\n",
       "      <th>4</th>\n",
       "      <td>2</td>\n",
       "      <td>20180525192134</td>\n",
       "      <td>20180526025112</td>\n",
       "      <td>67266.3</td>\n",
       "      <td>35.0</td>\n",
       "      <td>99.0</td>\n",
       "      <td>350.8</td>\n",
       "      <td>397.0</td>\n",
       "      <td>-9.4</td>\n",
       "      <td>-5.0</td>\n",
       "      <td>32.0</td>\n",
       "      <td>27.0</td>\n",
       "    </tr>\n",
       "  </tbody>\n",
       "</table>\n",
       "</div>"
      ],
      "text/plain": [
       "   vehicle_id  charge_start_time  charge_end_time  mileage  charge_start_soc  \\\n",
       "0           1     20171116161033   20171116170903  71710.6              44.0   \n",
       "1           1     20171210190533   20171210193743  75816.9              34.0   \n",
       "2           1     20180104213535   20180105042334  79867.3              39.2   \n",
       "3           1     20180215211935   20180216051456  86867.6              28.8   \n",
       "4           2     20180525192134   20180526025112  67266.3              35.0   \n",
       "\n",
       "   charge_end_soc  charge_start_U  charge_end_U  charge_start_I  charge_end_I  \\\n",
       "0            90.8           370.5         383.9           -29.8         -40.1   \n",
       "1            60.4           365.1         379.9           -25.9         -40.4   \n",
       "2           100.0           364.0         399.9            -7.6          -7.8   \n",
       "3             NaN           362.9         399.9            -7.6          -7.6   \n",
       "4            99.0           350.8         397.0            -9.4          -5.0   \n",
       "\n",
       "   charge_max_temp  charge_min_temp  \n",
       "0             21.0             13.0  \n",
       "1             14.0              9.0  \n",
       "2             11.0              2.0  \n",
       "3              8.0              3.0  \n",
       "4             32.0             27.0  "
      ]
     },
     "execution_count": 8,
     "metadata": {},
     "output_type": "execute_result"
    }
   ],
   "source": [
    "test = pd.read_csv('data/testA.csv')\n",
    "test.head()"
   ]
  },
  {
   "cell_type": "code",
   "execution_count": 9,
   "metadata": {},
   "outputs": [
    {
     "data": {
      "text/plain": [
       "vehicle_id           False\n",
       "charge_start_time    False\n",
       "charge_end_time      False\n",
       "mileage              False\n",
       "charge_start_soc     False\n",
       "charge_end_soc        True\n",
       "charge_start_U       False\n",
       "charge_end_U         False\n",
       "charge_start_I       False\n",
       "charge_end_I         False\n",
       "charge_max_temp      False\n",
       "charge_min_temp      False\n",
       "dtype: bool"
      ]
     },
     "execution_count": 9,
     "metadata": {},
     "output_type": "execute_result"
    }
   ],
   "source": [
    "# 找出缺失值的列\n",
    "test.isnull().any()"
   ]
  },
  {
   "cell_type": "code",
   "execution_count": 10,
   "metadata": {
    "collapsed": true
   },
   "outputs": [],
   "source": [
    "# 填充缺失值的列\n",
    "test['charge_end_soc'].fillna(test['charge_end_soc'].mean(), inplace=True)"
   ]
  },
  {
   "cell_type": "code",
   "execution_count": 11,
   "metadata": {},
   "outputs": [],
   "source": [
    "x = dict_vec.transform(test[selected_features].to_dict(orient='record'))\n",
    "y = model.predict(x)"
   ]
  },
  {
   "cell_type": "code",
   "execution_count": 12,
   "metadata": {},
   "outputs": [
    {
     "data": {
      "text/plain": [
       "27"
      ]
     },
     "execution_count": 12,
     "metadata": {},
     "output_type": "execute_result"
    }
   ],
   "source": [
    "ids = list(test['vehicle_id'])\n",
    "len(ids)"
   ]
  },
  {
   "cell_type": "code",
   "execution_count": 13,
   "metadata": {},
   "outputs": [],
   "source": [
    "with open('submit-A_张彬城_暨南大学_15521106350_20181009.csv', 'w') as f:\n",
    "    f.write('vehicle_id,charge_energy\\n')\n",
    "    for _id, _y in zip(ids, y):\n",
    "        line = '%d,%d\\n' % (_id, _y)\n",
    "        f.write(line)"
   ]
  }
 ],
 "metadata": {
  "anaconda-cloud": {},
  "kernelspec": {
   "display_name": "Python 3",
   "language": "python",
   "name": "python3"
  },
  "language_info": {
   "codemirror_mode": {
    "name": "ipython",
    "version": 3
   },
   "file_extension": ".py",
   "mimetype": "text/x-python",
   "name": "python",
   "nbconvert_exporter": "python",
   "pygments_lexer": "ipython3",
   "version": "3.6.5"
  }
 },
 "nbformat": 4,
 "nbformat_minor": 1
}
